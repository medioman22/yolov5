{
 "cells": [
  {
   "cell_type": "code",
   "execution_count": 1,
   "metadata": {},
   "outputs": [
    {
     "name": "stderr",
     "output_type": "stream",
     "text": [
      "/Users/mmacchini/opt/anaconda3/envs/objdet/lib/python3.9/site-packages/tqdm/auto.py:22: TqdmWarning: IProgress not found. Please update jupyter and ipywidgets. See https://ipywidgets.readthedocs.io/en/stable/user_install.html\n",
      "  from .autonotebook import tqdm as notebook_tqdm\n",
      "Downloading: \"https://github.com/ultralytics/yolov5/archive/master.zip\" to /Users/mmacchini/.cache/torch/hub/master.zip\n",
      "YOLOv5 🚀 2022-6-1 Python-3.9.12 torch-1.11.0 CPU\n",
      "\n",
      "Fusing layers... \n",
      "YOLOv5l summary: 367 layers, 46533693 parameters, 0 gradients\n",
      "Adding AutoShape... \n"
     ]
    },
    {
     "ename": "KeyError",
     "evalue": "'n'",
     "output_type": "error",
     "traceback": [
      "\u001b[0;31m---------------------------------------------------------------------------\u001b[0m",
      "\u001b[0;31mKeyError\u001b[0m                                  Traceback (most recent call last)",
      "\u001b[1;32m/Users/mmacchini/Documents/github/yolov5/test.ipynb Cell 1'\u001b[0m in \u001b[0;36m<cell line: 12>\u001b[0;34m()\u001b[0m\n\u001b[1;32m      <a href='vscode-notebook-cell:/Users/mmacchini/Documents/github/yolov5/test.ipynb#ch0000000?line=8'>9</a>\u001b[0m img \u001b[39m=\u001b[39m \u001b[39m'\u001b[39m\u001b[39mhttps://ultralytics.com/images/zidane.jpg\u001b[39m\u001b[39m'\u001b[39m  \u001b[39m# or file, Path, PIL, OpenCV, numpy, list\u001b[39;00m\n\u001b[1;32m     <a href='vscode-notebook-cell:/Users/mmacchini/Documents/github/yolov5/test.ipynb#ch0000000?line=10'>11</a>\u001b[0m \u001b[39m# Inference\u001b[39;00m\n\u001b[0;32m---> <a href='vscode-notebook-cell:/Users/mmacchini/Documents/github/yolov5/test.ipynb#ch0000000?line=11'>12</a>\u001b[0m results \u001b[39m=\u001b[39m models[\u001b[39m'\u001b[39;49m\u001b[39mn\u001b[39;49m\u001b[39m'\u001b[39;49m](img)\n\u001b[1;32m     <a href='vscode-notebook-cell:/Users/mmacchini/Documents/github/yolov5/test.ipynb#ch0000000?line=13'>14</a>\u001b[0m \u001b[39m# Results\u001b[39;00m\n\u001b[1;32m     <a href='vscode-notebook-cell:/Users/mmacchini/Documents/github/yolov5/test.ipynb#ch0000000?line=14'>15</a>\u001b[0m results\u001b[39m.\u001b[39mprint()\n",
      "\u001b[0;31mKeyError\u001b[0m: 'n'"
     ]
    }
   ],
   "source": [
    "import torch\n",
    "\n",
    "model_names = ['yolov5l']#, 'yolov5x']\n",
    "\n",
    "# Model\n",
    "models = {x[-1]:torch.hub.load('ultralytics/yolov5', x, force_reload=True) for x in model_names}  # or yolov5n - yolov5x6, custom\n",
    "\n",
    "# Images\n",
    "img = 'https://ultralytics.com/images/zidane.jpg'  # or file, Path, PIL, OpenCV, numpy, list\n",
    "\n",
    "# Inference\n",
    "results = models['n'](img)\n",
    "\n",
    "# Results\n",
    "results.print()  # or .show(), .save(), .crop(), .pandas(), etc."
   ]
  },
  {
   "cell_type": "code",
   "execution_count": 3,
   "metadata": {},
   "outputs": [
    {
     "name": "stderr",
     "output_type": "stream",
     "text": [
      "Using cache found in /Users/mmacchini/.cache/torch/hub/ultralytics_yolov5_master\n",
      "YOLOv5 🚀 2022-6-1 Python-3.9.12 torch-1.11.0 CPU\n",
      "\n",
      "Fusing layers... \n",
      "YOLOv5l summary: 367 layers, 46533693 parameters, 0 gradients\n",
      "Adding AutoShape... \n",
      "Using cache found in /Users/mmacchini/.cache/torch/hub/ultralytics_yolov5_master\n",
      "YOLOv5 🚀 2022-6-1 Python-3.9.12 torch-1.11.0 CPU\n",
      "\n",
      "Fusing layers... \n",
      "YOLOv5n summary: 213 layers, 1867405 parameters, 0 gradients\n",
      "Adding AutoShape... \n"
     ]
    }
   ],
   "source": [
    "model = torch.hub.load('ultralytics/yolov5', 'yolov5l')\n",
    "modeln = torch.hub.load('ultralytics/yolov5', 'yolov5n')\n"
   ]
  },
  {
   "cell_type": "code",
   "execution_count": 4,
   "metadata": {},
   "outputs": [
    {
     "name": "stdout",
     "output_type": "stream",
     "text": [
      "took 1.434638261795044s\n",
      "took 1.564964771270752s\n",
      "took 1.784696102142334s\n",
      "took 2.071303129196167s\n",
      "took 1.345893144607544s\n",
      "took 1.3952081203460693s\n",
      "took 1.744352102279663s\n",
      "took 1.8496348857879639s\n",
      "took 1.5358788967132568s\n",
      "took 1.4220657348632812s\n",
      "took 1.5026919841766357s\n",
      "took 1.82830810546875s\n"
     ]
    },
    {
     "ename": "KeyboardInterrupt",
     "evalue": "",
     "output_type": "error",
     "traceback": [
      "\u001b[0;31m---------------------------------------------------------------------------\u001b[0m",
      "\u001b[0;31mKeyboardInterrupt\u001b[0m                         Traceback (most recent call last)",
      "\u001b[1;32m/Users/mmacchini/Documents/github/yolov5/test.ipynb Cell 3'\u001b[0m in \u001b[0;36m<cell line: 14>\u001b[0;34m()\u001b[0m\n\u001b[1;32m     <a href='vscode-notebook-cell:/Users/mmacchini/Documents/github/yolov5/test.ipynb#ch0000002?line=13'>14</a>\u001b[0m \u001b[39mfor\u001b[39;00m img \u001b[39min\u001b[39;00m imgs:\n\u001b[1;32m     <a href='vscode-notebook-cell:/Users/mmacchini/Documents/github/yolov5/test.ipynb#ch0000002?line=14'>15</a>\u001b[0m     t \u001b[39m=\u001b[39m time\u001b[39m.\u001b[39mtime()\n\u001b[0;32m---> <a href='vscode-notebook-cell:/Users/mmacchini/Documents/github/yolov5/test.ipynb#ch0000002?line=15'>16</a>\u001b[0m     results \u001b[39m=\u001b[39m model(img)\n\u001b[1;32m     <a href='vscode-notebook-cell:/Users/mmacchini/Documents/github/yolov5/test.ipynb#ch0000002?line=16'>17</a>\u001b[0m     \u001b[39mprint\u001b[39m(\u001b[39mf\u001b[39m\u001b[39m'\u001b[39m\u001b[39mtook \u001b[39m\u001b[39m{\u001b[39;00mtime\u001b[39m.\u001b[39mtime() \u001b[39m-\u001b[39m t\u001b[39m}\u001b[39;00m\u001b[39ms\u001b[39m\u001b[39m'\u001b[39m)\n\u001b[1;32m     <a href='vscode-notebook-cell:/Users/mmacchini/Documents/github/yolov5/test.ipynb#ch0000002?line=18'>19</a>\u001b[0m     \u001b[39m# Results\u001b[39;00m\n",
      "File \u001b[0;32m~/opt/anaconda3/envs/objdet/lib/python3.9/site-packages/torch/nn/modules/module.py:1110\u001b[0m, in \u001b[0;36mModule._call_impl\u001b[0;34m(self, *input, **kwargs)\u001b[0m\n\u001b[1;32m   <a href='file:///Users/mmacchini/opt/anaconda3/envs/objdet/lib/python3.9/site-packages/torch/nn/modules/module.py?line=1105'>1106</a>\u001b[0m \u001b[39m# If we don't have any hooks, we want to skip the rest of the logic in\u001b[39;00m\n\u001b[1;32m   <a href='file:///Users/mmacchini/opt/anaconda3/envs/objdet/lib/python3.9/site-packages/torch/nn/modules/module.py?line=1106'>1107</a>\u001b[0m \u001b[39m# this function, and just call forward.\u001b[39;00m\n\u001b[1;32m   <a href='file:///Users/mmacchini/opt/anaconda3/envs/objdet/lib/python3.9/site-packages/torch/nn/modules/module.py?line=1107'>1108</a>\u001b[0m \u001b[39mif\u001b[39;00m \u001b[39mnot\u001b[39;00m (\u001b[39mself\u001b[39m\u001b[39m.\u001b[39m_backward_hooks \u001b[39mor\u001b[39;00m \u001b[39mself\u001b[39m\u001b[39m.\u001b[39m_forward_hooks \u001b[39mor\u001b[39;00m \u001b[39mself\u001b[39m\u001b[39m.\u001b[39m_forward_pre_hooks \u001b[39mor\u001b[39;00m _global_backward_hooks\n\u001b[1;32m   <a href='file:///Users/mmacchini/opt/anaconda3/envs/objdet/lib/python3.9/site-packages/torch/nn/modules/module.py?line=1108'>1109</a>\u001b[0m         \u001b[39mor\u001b[39;00m _global_forward_hooks \u001b[39mor\u001b[39;00m _global_forward_pre_hooks):\n\u001b[0;32m-> <a href='file:///Users/mmacchini/opt/anaconda3/envs/objdet/lib/python3.9/site-packages/torch/nn/modules/module.py?line=1109'>1110</a>\u001b[0m     \u001b[39mreturn\u001b[39;00m forward_call(\u001b[39m*\u001b[39;49m\u001b[39minput\u001b[39;49m, \u001b[39m*\u001b[39;49m\u001b[39m*\u001b[39;49mkwargs)\n\u001b[1;32m   <a href='file:///Users/mmacchini/opt/anaconda3/envs/objdet/lib/python3.9/site-packages/torch/nn/modules/module.py?line=1110'>1111</a>\u001b[0m \u001b[39m# Do not call functions when jit is used\u001b[39;00m\n\u001b[1;32m   <a href='file:///Users/mmacchini/opt/anaconda3/envs/objdet/lib/python3.9/site-packages/torch/nn/modules/module.py?line=1111'>1112</a>\u001b[0m full_backward_hooks, non_full_backward_hooks \u001b[39m=\u001b[39m [], []\n",
      "File \u001b[0;32m~/opt/anaconda3/envs/objdet/lib/python3.9/site-packages/torch/autograd/grad_mode.py:27\u001b[0m, in \u001b[0;36m_DecoratorContextManager.__call__.<locals>.decorate_context\u001b[0;34m(*args, **kwargs)\u001b[0m\n\u001b[1;32m     <a href='file:///Users/mmacchini/opt/anaconda3/envs/objdet/lib/python3.9/site-packages/torch/autograd/grad_mode.py?line=23'>24</a>\u001b[0m \u001b[39m@functools\u001b[39m\u001b[39m.\u001b[39mwraps(func)\n\u001b[1;32m     <a href='file:///Users/mmacchini/opt/anaconda3/envs/objdet/lib/python3.9/site-packages/torch/autograd/grad_mode.py?line=24'>25</a>\u001b[0m \u001b[39mdef\u001b[39;00m \u001b[39mdecorate_context\u001b[39m(\u001b[39m*\u001b[39margs, \u001b[39m*\u001b[39m\u001b[39m*\u001b[39mkwargs):\n\u001b[1;32m     <a href='file:///Users/mmacchini/opt/anaconda3/envs/objdet/lib/python3.9/site-packages/torch/autograd/grad_mode.py?line=25'>26</a>\u001b[0m     \u001b[39mwith\u001b[39;00m \u001b[39mself\u001b[39m\u001b[39m.\u001b[39mclone():\n\u001b[0;32m---> <a href='file:///Users/mmacchini/opt/anaconda3/envs/objdet/lib/python3.9/site-packages/torch/autograd/grad_mode.py?line=26'>27</a>\u001b[0m         \u001b[39mreturn\u001b[39;00m func(\u001b[39m*\u001b[39;49margs, \u001b[39m*\u001b[39;49m\u001b[39m*\u001b[39;49mkwargs)\n",
      "File \u001b[0;32m~/.cache/torch/hub/ultralytics_yolov5_master/models/common.py:602\u001b[0m, in \u001b[0;36mAutoShape.forward\u001b[0;34m(self, imgs, size, augment, profile)\u001b[0m\n\u001b[1;32m    <a href='file:///Users/mmacchini/.cache/torch/hub/ultralytics_yolov5_master/models/common.py?line=597'>598</a>\u001b[0m t\u001b[39m.\u001b[39mappend(time_sync())\n\u001b[1;32m    <a href='file:///Users/mmacchini/.cache/torch/hub/ultralytics_yolov5_master/models/common.py?line=599'>600</a>\u001b[0m \u001b[39mwith\u001b[39;00m amp\u001b[39m.\u001b[39mautocast(autocast):\n\u001b[1;32m    <a href='file:///Users/mmacchini/.cache/torch/hub/ultralytics_yolov5_master/models/common.py?line=600'>601</a>\u001b[0m     \u001b[39m# Inference\u001b[39;00m\n\u001b[0;32m--> <a href='file:///Users/mmacchini/.cache/torch/hub/ultralytics_yolov5_master/models/common.py?line=601'>602</a>\u001b[0m     y \u001b[39m=\u001b[39m \u001b[39mself\u001b[39;49m\u001b[39m.\u001b[39;49mmodel(x, augment, profile)  \u001b[39m# forward\u001b[39;00m\n\u001b[1;32m    <a href='file:///Users/mmacchini/.cache/torch/hub/ultralytics_yolov5_master/models/common.py?line=602'>603</a>\u001b[0m     t\u001b[39m.\u001b[39mappend(time_sync())\n\u001b[1;32m    <a href='file:///Users/mmacchini/.cache/torch/hub/ultralytics_yolov5_master/models/common.py?line=604'>605</a>\u001b[0m     \u001b[39m# Post-process\u001b[39;00m\n",
      "File \u001b[0;32m~/opt/anaconda3/envs/objdet/lib/python3.9/site-packages/torch/nn/modules/module.py:1110\u001b[0m, in \u001b[0;36mModule._call_impl\u001b[0;34m(self, *input, **kwargs)\u001b[0m\n\u001b[1;32m   <a href='file:///Users/mmacchini/opt/anaconda3/envs/objdet/lib/python3.9/site-packages/torch/nn/modules/module.py?line=1105'>1106</a>\u001b[0m \u001b[39m# If we don't have any hooks, we want to skip the rest of the logic in\u001b[39;00m\n\u001b[1;32m   <a href='file:///Users/mmacchini/opt/anaconda3/envs/objdet/lib/python3.9/site-packages/torch/nn/modules/module.py?line=1106'>1107</a>\u001b[0m \u001b[39m# this function, and just call forward.\u001b[39;00m\n\u001b[1;32m   <a href='file:///Users/mmacchini/opt/anaconda3/envs/objdet/lib/python3.9/site-packages/torch/nn/modules/module.py?line=1107'>1108</a>\u001b[0m \u001b[39mif\u001b[39;00m \u001b[39mnot\u001b[39;00m (\u001b[39mself\u001b[39m\u001b[39m.\u001b[39m_backward_hooks \u001b[39mor\u001b[39;00m \u001b[39mself\u001b[39m\u001b[39m.\u001b[39m_forward_hooks \u001b[39mor\u001b[39;00m \u001b[39mself\u001b[39m\u001b[39m.\u001b[39m_forward_pre_hooks \u001b[39mor\u001b[39;00m _global_backward_hooks\n\u001b[1;32m   <a href='file:///Users/mmacchini/opt/anaconda3/envs/objdet/lib/python3.9/site-packages/torch/nn/modules/module.py?line=1108'>1109</a>\u001b[0m         \u001b[39mor\u001b[39;00m _global_forward_hooks \u001b[39mor\u001b[39;00m _global_forward_pre_hooks):\n\u001b[0;32m-> <a href='file:///Users/mmacchini/opt/anaconda3/envs/objdet/lib/python3.9/site-packages/torch/nn/modules/module.py?line=1109'>1110</a>\u001b[0m     \u001b[39mreturn\u001b[39;00m forward_call(\u001b[39m*\u001b[39;49m\u001b[39minput\u001b[39;49m, \u001b[39m*\u001b[39;49m\u001b[39m*\u001b[39;49mkwargs)\n\u001b[1;32m   <a href='file:///Users/mmacchini/opt/anaconda3/envs/objdet/lib/python3.9/site-packages/torch/nn/modules/module.py?line=1110'>1111</a>\u001b[0m \u001b[39m# Do not call functions when jit is used\u001b[39;00m\n\u001b[1;32m   <a href='file:///Users/mmacchini/opt/anaconda3/envs/objdet/lib/python3.9/site-packages/torch/nn/modules/module.py?line=1111'>1112</a>\u001b[0m full_backward_hooks, non_full_backward_hooks \u001b[39m=\u001b[39m [], []\n",
      "File \u001b[0;32m~/.cache/torch/hub/ultralytics_yolov5_master/models/common.py:445\u001b[0m, in \u001b[0;36mDetectMultiBackend.forward\u001b[0;34m(self, im, augment, visualize, val)\u001b[0m\n\u001b[1;32m    <a href='file:///Users/mmacchini/.cache/torch/hub/ultralytics_yolov5_master/models/common.py?line=442'>443</a>\u001b[0m b, ch, h, w \u001b[39m=\u001b[39m im\u001b[39m.\u001b[39mshape  \u001b[39m# batch, channel, height, width\u001b[39;00m\n\u001b[1;32m    <a href='file:///Users/mmacchini/.cache/torch/hub/ultralytics_yolov5_master/models/common.py?line=443'>444</a>\u001b[0m \u001b[39mif\u001b[39;00m \u001b[39mself\u001b[39m\u001b[39m.\u001b[39mpt:  \u001b[39m# PyTorch\u001b[39;00m\n\u001b[0;32m--> <a href='file:///Users/mmacchini/.cache/torch/hub/ultralytics_yolov5_master/models/common.py?line=444'>445</a>\u001b[0m     y \u001b[39m=\u001b[39m \u001b[39mself\u001b[39;49m\u001b[39m.\u001b[39;49mmodel(im, augment\u001b[39m=\u001b[39;49maugment, visualize\u001b[39m=\u001b[39;49mvisualize)[\u001b[39m0\u001b[39m]\n\u001b[1;32m    <a href='file:///Users/mmacchini/.cache/torch/hub/ultralytics_yolov5_master/models/common.py?line=445'>446</a>\u001b[0m \u001b[39melif\u001b[39;00m \u001b[39mself\u001b[39m\u001b[39m.\u001b[39mjit:  \u001b[39m# TorchScript\u001b[39;00m\n\u001b[1;32m    <a href='file:///Users/mmacchini/.cache/torch/hub/ultralytics_yolov5_master/models/common.py?line=446'>447</a>\u001b[0m     y \u001b[39m=\u001b[39m \u001b[39mself\u001b[39m\u001b[39m.\u001b[39mmodel(im)[\u001b[39m0\u001b[39m]\n",
      "File \u001b[0;32m~/opt/anaconda3/envs/objdet/lib/python3.9/site-packages/torch/nn/modules/module.py:1110\u001b[0m, in \u001b[0;36mModule._call_impl\u001b[0;34m(self, *input, **kwargs)\u001b[0m\n\u001b[1;32m   <a href='file:///Users/mmacchini/opt/anaconda3/envs/objdet/lib/python3.9/site-packages/torch/nn/modules/module.py?line=1105'>1106</a>\u001b[0m \u001b[39m# If we don't have any hooks, we want to skip the rest of the logic in\u001b[39;00m\n\u001b[1;32m   <a href='file:///Users/mmacchini/opt/anaconda3/envs/objdet/lib/python3.9/site-packages/torch/nn/modules/module.py?line=1106'>1107</a>\u001b[0m \u001b[39m# this function, and just call forward.\u001b[39;00m\n\u001b[1;32m   <a href='file:///Users/mmacchini/opt/anaconda3/envs/objdet/lib/python3.9/site-packages/torch/nn/modules/module.py?line=1107'>1108</a>\u001b[0m \u001b[39mif\u001b[39;00m \u001b[39mnot\u001b[39;00m (\u001b[39mself\u001b[39m\u001b[39m.\u001b[39m_backward_hooks \u001b[39mor\u001b[39;00m \u001b[39mself\u001b[39m\u001b[39m.\u001b[39m_forward_hooks \u001b[39mor\u001b[39;00m \u001b[39mself\u001b[39m\u001b[39m.\u001b[39m_forward_pre_hooks \u001b[39mor\u001b[39;00m _global_backward_hooks\n\u001b[1;32m   <a href='file:///Users/mmacchini/opt/anaconda3/envs/objdet/lib/python3.9/site-packages/torch/nn/modules/module.py?line=1108'>1109</a>\u001b[0m         \u001b[39mor\u001b[39;00m _global_forward_hooks \u001b[39mor\u001b[39;00m _global_forward_pre_hooks):\n\u001b[0;32m-> <a href='file:///Users/mmacchini/opt/anaconda3/envs/objdet/lib/python3.9/site-packages/torch/nn/modules/module.py?line=1109'>1110</a>\u001b[0m     \u001b[39mreturn\u001b[39;00m forward_call(\u001b[39m*\u001b[39;49m\u001b[39minput\u001b[39;49m, \u001b[39m*\u001b[39;49m\u001b[39m*\u001b[39;49mkwargs)\n\u001b[1;32m   <a href='file:///Users/mmacchini/opt/anaconda3/envs/objdet/lib/python3.9/site-packages/torch/nn/modules/module.py?line=1110'>1111</a>\u001b[0m \u001b[39m# Do not call functions when jit is used\u001b[39;00m\n\u001b[1;32m   <a href='file:///Users/mmacchini/opt/anaconda3/envs/objdet/lib/python3.9/site-packages/torch/nn/modules/module.py?line=1111'>1112</a>\u001b[0m full_backward_hooks, non_full_backward_hooks \u001b[39m=\u001b[39m [], []\n",
      "File \u001b[0;32m~/.cache/torch/hub/ultralytics_yolov5_master/models/yolo.py:135\u001b[0m, in \u001b[0;36mModel.forward\u001b[0;34m(self, x, augment, profile, visualize)\u001b[0m\n\u001b[1;32m    <a href='file:///Users/mmacchini/.cache/torch/hub/ultralytics_yolov5_master/models/yolo.py?line=132'>133</a>\u001b[0m \u001b[39mif\u001b[39;00m augment:\n\u001b[1;32m    <a href='file:///Users/mmacchini/.cache/torch/hub/ultralytics_yolov5_master/models/yolo.py?line=133'>134</a>\u001b[0m     \u001b[39mreturn\u001b[39;00m \u001b[39mself\u001b[39m\u001b[39m.\u001b[39m_forward_augment(x)  \u001b[39m# augmented inference, None\u001b[39;00m\n\u001b[0;32m--> <a href='file:///Users/mmacchini/.cache/torch/hub/ultralytics_yolov5_master/models/yolo.py?line=134'>135</a>\u001b[0m \u001b[39mreturn\u001b[39;00m \u001b[39mself\u001b[39;49m\u001b[39m.\u001b[39;49m_forward_once(x, profile, visualize)\n",
      "File \u001b[0;32m~/.cache/torch/hub/ultralytics_yolov5_master/models/yolo.py:158\u001b[0m, in \u001b[0;36mModel._forward_once\u001b[0;34m(self, x, profile, visualize)\u001b[0m\n\u001b[1;32m    <a href='file:///Users/mmacchini/.cache/torch/hub/ultralytics_yolov5_master/models/yolo.py?line=155'>156</a>\u001b[0m \u001b[39mif\u001b[39;00m profile:\n\u001b[1;32m    <a href='file:///Users/mmacchini/.cache/torch/hub/ultralytics_yolov5_master/models/yolo.py?line=156'>157</a>\u001b[0m     \u001b[39mself\u001b[39m\u001b[39m.\u001b[39m_profile_one_layer(m, x, dt)\n\u001b[0;32m--> <a href='file:///Users/mmacchini/.cache/torch/hub/ultralytics_yolov5_master/models/yolo.py?line=157'>158</a>\u001b[0m x \u001b[39m=\u001b[39m m(x)  \u001b[39m# run\u001b[39;00m\n\u001b[1;32m    <a href='file:///Users/mmacchini/.cache/torch/hub/ultralytics_yolov5_master/models/yolo.py?line=158'>159</a>\u001b[0m y\u001b[39m.\u001b[39mappend(x \u001b[39mif\u001b[39;00m m\u001b[39m.\u001b[39mi \u001b[39min\u001b[39;00m \u001b[39mself\u001b[39m\u001b[39m.\u001b[39msave \u001b[39melse\u001b[39;00m \u001b[39mNone\u001b[39;00m)  \u001b[39m# save output\u001b[39;00m\n\u001b[1;32m    <a href='file:///Users/mmacchini/.cache/torch/hub/ultralytics_yolov5_master/models/yolo.py?line=159'>160</a>\u001b[0m \u001b[39mif\u001b[39;00m visualize:\n",
      "File \u001b[0;32m~/opt/anaconda3/envs/objdet/lib/python3.9/site-packages/torch/nn/modules/module.py:1110\u001b[0m, in \u001b[0;36mModule._call_impl\u001b[0;34m(self, *input, **kwargs)\u001b[0m\n\u001b[1;32m   <a href='file:///Users/mmacchini/opt/anaconda3/envs/objdet/lib/python3.9/site-packages/torch/nn/modules/module.py?line=1105'>1106</a>\u001b[0m \u001b[39m# If we don't have any hooks, we want to skip the rest of the logic in\u001b[39;00m\n\u001b[1;32m   <a href='file:///Users/mmacchini/opt/anaconda3/envs/objdet/lib/python3.9/site-packages/torch/nn/modules/module.py?line=1106'>1107</a>\u001b[0m \u001b[39m# this function, and just call forward.\u001b[39;00m\n\u001b[1;32m   <a href='file:///Users/mmacchini/opt/anaconda3/envs/objdet/lib/python3.9/site-packages/torch/nn/modules/module.py?line=1107'>1108</a>\u001b[0m \u001b[39mif\u001b[39;00m \u001b[39mnot\u001b[39;00m (\u001b[39mself\u001b[39m\u001b[39m.\u001b[39m_backward_hooks \u001b[39mor\u001b[39;00m \u001b[39mself\u001b[39m\u001b[39m.\u001b[39m_forward_hooks \u001b[39mor\u001b[39;00m \u001b[39mself\u001b[39m\u001b[39m.\u001b[39m_forward_pre_hooks \u001b[39mor\u001b[39;00m _global_backward_hooks\n\u001b[1;32m   <a href='file:///Users/mmacchini/opt/anaconda3/envs/objdet/lib/python3.9/site-packages/torch/nn/modules/module.py?line=1108'>1109</a>\u001b[0m         \u001b[39mor\u001b[39;00m _global_forward_hooks \u001b[39mor\u001b[39;00m _global_forward_pre_hooks):\n\u001b[0;32m-> <a href='file:///Users/mmacchini/opt/anaconda3/envs/objdet/lib/python3.9/site-packages/torch/nn/modules/module.py?line=1109'>1110</a>\u001b[0m     \u001b[39mreturn\u001b[39;00m forward_call(\u001b[39m*\u001b[39;49m\u001b[39minput\u001b[39;49m, \u001b[39m*\u001b[39;49m\u001b[39m*\u001b[39;49mkwargs)\n\u001b[1;32m   <a href='file:///Users/mmacchini/opt/anaconda3/envs/objdet/lib/python3.9/site-packages/torch/nn/modules/module.py?line=1110'>1111</a>\u001b[0m \u001b[39m# Do not call functions when jit is used\u001b[39;00m\n\u001b[1;32m   <a href='file:///Users/mmacchini/opt/anaconda3/envs/objdet/lib/python3.9/site-packages/torch/nn/modules/module.py?line=1111'>1112</a>\u001b[0m full_backward_hooks, non_full_backward_hooks \u001b[39m=\u001b[39m [], []\n",
      "File \u001b[0;32m~/.cache/torch/hub/ultralytics_yolov5_master/models/common.py:158\u001b[0m, in \u001b[0;36mC3.forward\u001b[0;34m(self, x)\u001b[0m\n\u001b[1;32m    <a href='file:///Users/mmacchini/.cache/torch/hub/ultralytics_yolov5_master/models/common.py?line=156'>157</a>\u001b[0m \u001b[39mdef\u001b[39;00m \u001b[39mforward\u001b[39m(\u001b[39mself\u001b[39m, x):\n\u001b[0;32m--> <a href='file:///Users/mmacchini/.cache/torch/hub/ultralytics_yolov5_master/models/common.py?line=157'>158</a>\u001b[0m     \u001b[39mreturn\u001b[39;00m \u001b[39mself\u001b[39m\u001b[39m.\u001b[39mcv3(torch\u001b[39m.\u001b[39mcat((\u001b[39mself\u001b[39;49m\u001b[39m.\u001b[39;49mm(\u001b[39mself\u001b[39;49m\u001b[39m.\u001b[39;49mcv1(x)), \u001b[39mself\u001b[39m\u001b[39m.\u001b[39mcv2(x)), \u001b[39m1\u001b[39m))\n",
      "File \u001b[0;32m~/opt/anaconda3/envs/objdet/lib/python3.9/site-packages/torch/nn/modules/module.py:1110\u001b[0m, in \u001b[0;36mModule._call_impl\u001b[0;34m(self, *input, **kwargs)\u001b[0m\n\u001b[1;32m   <a href='file:///Users/mmacchini/opt/anaconda3/envs/objdet/lib/python3.9/site-packages/torch/nn/modules/module.py?line=1105'>1106</a>\u001b[0m \u001b[39m# If we don't have any hooks, we want to skip the rest of the logic in\u001b[39;00m\n\u001b[1;32m   <a href='file:///Users/mmacchini/opt/anaconda3/envs/objdet/lib/python3.9/site-packages/torch/nn/modules/module.py?line=1106'>1107</a>\u001b[0m \u001b[39m# this function, and just call forward.\u001b[39;00m\n\u001b[1;32m   <a href='file:///Users/mmacchini/opt/anaconda3/envs/objdet/lib/python3.9/site-packages/torch/nn/modules/module.py?line=1107'>1108</a>\u001b[0m \u001b[39mif\u001b[39;00m \u001b[39mnot\u001b[39;00m (\u001b[39mself\u001b[39m\u001b[39m.\u001b[39m_backward_hooks \u001b[39mor\u001b[39;00m \u001b[39mself\u001b[39m\u001b[39m.\u001b[39m_forward_hooks \u001b[39mor\u001b[39;00m \u001b[39mself\u001b[39m\u001b[39m.\u001b[39m_forward_pre_hooks \u001b[39mor\u001b[39;00m _global_backward_hooks\n\u001b[1;32m   <a href='file:///Users/mmacchini/opt/anaconda3/envs/objdet/lib/python3.9/site-packages/torch/nn/modules/module.py?line=1108'>1109</a>\u001b[0m         \u001b[39mor\u001b[39;00m _global_forward_hooks \u001b[39mor\u001b[39;00m _global_forward_pre_hooks):\n\u001b[0;32m-> <a href='file:///Users/mmacchini/opt/anaconda3/envs/objdet/lib/python3.9/site-packages/torch/nn/modules/module.py?line=1109'>1110</a>\u001b[0m     \u001b[39mreturn\u001b[39;00m forward_call(\u001b[39m*\u001b[39;49m\u001b[39minput\u001b[39;49m, \u001b[39m*\u001b[39;49m\u001b[39m*\u001b[39;49mkwargs)\n\u001b[1;32m   <a href='file:///Users/mmacchini/opt/anaconda3/envs/objdet/lib/python3.9/site-packages/torch/nn/modules/module.py?line=1110'>1111</a>\u001b[0m \u001b[39m# Do not call functions when jit is used\u001b[39;00m\n\u001b[1;32m   <a href='file:///Users/mmacchini/opt/anaconda3/envs/objdet/lib/python3.9/site-packages/torch/nn/modules/module.py?line=1111'>1112</a>\u001b[0m full_backward_hooks, non_full_backward_hooks \u001b[39m=\u001b[39m [], []\n",
      "File \u001b[0;32m~/opt/anaconda3/envs/objdet/lib/python3.9/site-packages/torch/nn/modules/container.py:141\u001b[0m, in \u001b[0;36mSequential.forward\u001b[0;34m(self, input)\u001b[0m\n\u001b[1;32m    <a href='file:///Users/mmacchini/opt/anaconda3/envs/objdet/lib/python3.9/site-packages/torch/nn/modules/container.py?line=138'>139</a>\u001b[0m \u001b[39mdef\u001b[39;00m \u001b[39mforward\u001b[39m(\u001b[39mself\u001b[39m, \u001b[39minput\u001b[39m):\n\u001b[1;32m    <a href='file:///Users/mmacchini/opt/anaconda3/envs/objdet/lib/python3.9/site-packages/torch/nn/modules/container.py?line=139'>140</a>\u001b[0m     \u001b[39mfor\u001b[39;00m module \u001b[39min\u001b[39;00m \u001b[39mself\u001b[39m:\n\u001b[0;32m--> <a href='file:///Users/mmacchini/opt/anaconda3/envs/objdet/lib/python3.9/site-packages/torch/nn/modules/container.py?line=140'>141</a>\u001b[0m         \u001b[39minput\u001b[39m \u001b[39m=\u001b[39m module(\u001b[39minput\u001b[39;49m)\n\u001b[1;32m    <a href='file:///Users/mmacchini/opt/anaconda3/envs/objdet/lib/python3.9/site-packages/torch/nn/modules/container.py?line=141'>142</a>\u001b[0m     \u001b[39mreturn\u001b[39;00m \u001b[39minput\u001b[39m\n",
      "File \u001b[0;32m~/opt/anaconda3/envs/objdet/lib/python3.9/site-packages/torch/nn/modules/module.py:1110\u001b[0m, in \u001b[0;36mModule._call_impl\u001b[0;34m(self, *input, **kwargs)\u001b[0m\n\u001b[1;32m   <a href='file:///Users/mmacchini/opt/anaconda3/envs/objdet/lib/python3.9/site-packages/torch/nn/modules/module.py?line=1105'>1106</a>\u001b[0m \u001b[39m# If we don't have any hooks, we want to skip the rest of the logic in\u001b[39;00m\n\u001b[1;32m   <a href='file:///Users/mmacchini/opt/anaconda3/envs/objdet/lib/python3.9/site-packages/torch/nn/modules/module.py?line=1106'>1107</a>\u001b[0m \u001b[39m# this function, and just call forward.\u001b[39;00m\n\u001b[1;32m   <a href='file:///Users/mmacchini/opt/anaconda3/envs/objdet/lib/python3.9/site-packages/torch/nn/modules/module.py?line=1107'>1108</a>\u001b[0m \u001b[39mif\u001b[39;00m \u001b[39mnot\u001b[39;00m (\u001b[39mself\u001b[39m\u001b[39m.\u001b[39m_backward_hooks \u001b[39mor\u001b[39;00m \u001b[39mself\u001b[39m\u001b[39m.\u001b[39m_forward_hooks \u001b[39mor\u001b[39;00m \u001b[39mself\u001b[39m\u001b[39m.\u001b[39m_forward_pre_hooks \u001b[39mor\u001b[39;00m _global_backward_hooks\n\u001b[1;32m   <a href='file:///Users/mmacchini/opt/anaconda3/envs/objdet/lib/python3.9/site-packages/torch/nn/modules/module.py?line=1108'>1109</a>\u001b[0m         \u001b[39mor\u001b[39;00m _global_forward_hooks \u001b[39mor\u001b[39;00m _global_forward_pre_hooks):\n\u001b[0;32m-> <a href='file:///Users/mmacchini/opt/anaconda3/envs/objdet/lib/python3.9/site-packages/torch/nn/modules/module.py?line=1109'>1110</a>\u001b[0m     \u001b[39mreturn\u001b[39;00m forward_call(\u001b[39m*\u001b[39;49m\u001b[39minput\u001b[39;49m, \u001b[39m*\u001b[39;49m\u001b[39m*\u001b[39;49mkwargs)\n\u001b[1;32m   <a href='file:///Users/mmacchini/opt/anaconda3/envs/objdet/lib/python3.9/site-packages/torch/nn/modules/module.py?line=1110'>1111</a>\u001b[0m \u001b[39m# Do not call functions when jit is used\u001b[39;00m\n\u001b[1;32m   <a href='file:///Users/mmacchini/opt/anaconda3/envs/objdet/lib/python3.9/site-packages/torch/nn/modules/module.py?line=1111'>1112</a>\u001b[0m full_backward_hooks, non_full_backward_hooks \u001b[39m=\u001b[39m [], []\n",
      "File \u001b[0;32m~/.cache/torch/hub/ultralytics_yolov5_master/models/common.py:111\u001b[0m, in \u001b[0;36mBottleneck.forward\u001b[0;34m(self, x)\u001b[0m\n\u001b[1;32m    <a href='file:///Users/mmacchini/.cache/torch/hub/ultralytics_yolov5_master/models/common.py?line=109'>110</a>\u001b[0m \u001b[39mdef\u001b[39;00m \u001b[39mforward\u001b[39m(\u001b[39mself\u001b[39m, x):\n\u001b[0;32m--> <a href='file:///Users/mmacchini/.cache/torch/hub/ultralytics_yolov5_master/models/common.py?line=110'>111</a>\u001b[0m     \u001b[39mreturn\u001b[39;00m x \u001b[39m+\u001b[39m \u001b[39mself\u001b[39;49m\u001b[39m.\u001b[39;49mcv2(\u001b[39mself\u001b[39;49m\u001b[39m.\u001b[39;49mcv1(x)) \u001b[39mif\u001b[39;00m \u001b[39mself\u001b[39m\u001b[39m.\u001b[39madd \u001b[39melse\u001b[39;00m \u001b[39mself\u001b[39m\u001b[39m.\u001b[39mcv2(\u001b[39mself\u001b[39m\u001b[39m.\u001b[39mcv1(x))\n",
      "File \u001b[0;32m~/opt/anaconda3/envs/objdet/lib/python3.9/site-packages/torch/nn/modules/module.py:1110\u001b[0m, in \u001b[0;36mModule._call_impl\u001b[0;34m(self, *input, **kwargs)\u001b[0m\n\u001b[1;32m   <a href='file:///Users/mmacchini/opt/anaconda3/envs/objdet/lib/python3.9/site-packages/torch/nn/modules/module.py?line=1105'>1106</a>\u001b[0m \u001b[39m# If we don't have any hooks, we want to skip the rest of the logic in\u001b[39;00m\n\u001b[1;32m   <a href='file:///Users/mmacchini/opt/anaconda3/envs/objdet/lib/python3.9/site-packages/torch/nn/modules/module.py?line=1106'>1107</a>\u001b[0m \u001b[39m# this function, and just call forward.\u001b[39;00m\n\u001b[1;32m   <a href='file:///Users/mmacchini/opt/anaconda3/envs/objdet/lib/python3.9/site-packages/torch/nn/modules/module.py?line=1107'>1108</a>\u001b[0m \u001b[39mif\u001b[39;00m \u001b[39mnot\u001b[39;00m (\u001b[39mself\u001b[39m\u001b[39m.\u001b[39m_backward_hooks \u001b[39mor\u001b[39;00m \u001b[39mself\u001b[39m\u001b[39m.\u001b[39m_forward_hooks \u001b[39mor\u001b[39;00m \u001b[39mself\u001b[39m\u001b[39m.\u001b[39m_forward_pre_hooks \u001b[39mor\u001b[39;00m _global_backward_hooks\n\u001b[1;32m   <a href='file:///Users/mmacchini/opt/anaconda3/envs/objdet/lib/python3.9/site-packages/torch/nn/modules/module.py?line=1108'>1109</a>\u001b[0m         \u001b[39mor\u001b[39;00m _global_forward_hooks \u001b[39mor\u001b[39;00m _global_forward_pre_hooks):\n\u001b[0;32m-> <a href='file:///Users/mmacchini/opt/anaconda3/envs/objdet/lib/python3.9/site-packages/torch/nn/modules/module.py?line=1109'>1110</a>\u001b[0m     \u001b[39mreturn\u001b[39;00m forward_call(\u001b[39m*\u001b[39;49m\u001b[39minput\u001b[39;49m, \u001b[39m*\u001b[39;49m\u001b[39m*\u001b[39;49mkwargs)\n\u001b[1;32m   <a href='file:///Users/mmacchini/opt/anaconda3/envs/objdet/lib/python3.9/site-packages/torch/nn/modules/module.py?line=1110'>1111</a>\u001b[0m \u001b[39m# Do not call functions when jit is used\u001b[39;00m\n\u001b[1;32m   <a href='file:///Users/mmacchini/opt/anaconda3/envs/objdet/lib/python3.9/site-packages/torch/nn/modules/module.py?line=1111'>1112</a>\u001b[0m full_backward_hooks, non_full_backward_hooks \u001b[39m=\u001b[39m [], []\n",
      "File \u001b[0;32m~/.cache/torch/hub/ultralytics_yolov5_master/models/common.py:50\u001b[0m, in \u001b[0;36mConv.forward_fuse\u001b[0;34m(self, x)\u001b[0m\n\u001b[1;32m     <a href='file:///Users/mmacchini/.cache/torch/hub/ultralytics_yolov5_master/models/common.py?line=48'>49</a>\u001b[0m \u001b[39mdef\u001b[39;00m \u001b[39mforward_fuse\u001b[39m(\u001b[39mself\u001b[39m, x):\n\u001b[0;32m---> <a href='file:///Users/mmacchini/.cache/torch/hub/ultralytics_yolov5_master/models/common.py?line=49'>50</a>\u001b[0m     \u001b[39mreturn\u001b[39;00m \u001b[39mself\u001b[39m\u001b[39m.\u001b[39mact(\u001b[39mself\u001b[39;49m\u001b[39m.\u001b[39;49mconv(x))\n",
      "File \u001b[0;32m~/opt/anaconda3/envs/objdet/lib/python3.9/site-packages/torch/nn/modules/module.py:1110\u001b[0m, in \u001b[0;36mModule._call_impl\u001b[0;34m(self, *input, **kwargs)\u001b[0m\n\u001b[1;32m   <a href='file:///Users/mmacchini/opt/anaconda3/envs/objdet/lib/python3.9/site-packages/torch/nn/modules/module.py?line=1105'>1106</a>\u001b[0m \u001b[39m# If we don't have any hooks, we want to skip the rest of the logic in\u001b[39;00m\n\u001b[1;32m   <a href='file:///Users/mmacchini/opt/anaconda3/envs/objdet/lib/python3.9/site-packages/torch/nn/modules/module.py?line=1106'>1107</a>\u001b[0m \u001b[39m# this function, and just call forward.\u001b[39;00m\n\u001b[1;32m   <a href='file:///Users/mmacchini/opt/anaconda3/envs/objdet/lib/python3.9/site-packages/torch/nn/modules/module.py?line=1107'>1108</a>\u001b[0m \u001b[39mif\u001b[39;00m \u001b[39mnot\u001b[39;00m (\u001b[39mself\u001b[39m\u001b[39m.\u001b[39m_backward_hooks \u001b[39mor\u001b[39;00m \u001b[39mself\u001b[39m\u001b[39m.\u001b[39m_forward_hooks \u001b[39mor\u001b[39;00m \u001b[39mself\u001b[39m\u001b[39m.\u001b[39m_forward_pre_hooks \u001b[39mor\u001b[39;00m _global_backward_hooks\n\u001b[1;32m   <a href='file:///Users/mmacchini/opt/anaconda3/envs/objdet/lib/python3.9/site-packages/torch/nn/modules/module.py?line=1108'>1109</a>\u001b[0m         \u001b[39mor\u001b[39;00m _global_forward_hooks \u001b[39mor\u001b[39;00m _global_forward_pre_hooks):\n\u001b[0;32m-> <a href='file:///Users/mmacchini/opt/anaconda3/envs/objdet/lib/python3.9/site-packages/torch/nn/modules/module.py?line=1109'>1110</a>\u001b[0m     \u001b[39mreturn\u001b[39;00m forward_call(\u001b[39m*\u001b[39;49m\u001b[39minput\u001b[39;49m, \u001b[39m*\u001b[39;49m\u001b[39m*\u001b[39;49mkwargs)\n\u001b[1;32m   <a href='file:///Users/mmacchini/opt/anaconda3/envs/objdet/lib/python3.9/site-packages/torch/nn/modules/module.py?line=1110'>1111</a>\u001b[0m \u001b[39m# Do not call functions when jit is used\u001b[39;00m\n\u001b[1;32m   <a href='file:///Users/mmacchini/opt/anaconda3/envs/objdet/lib/python3.9/site-packages/torch/nn/modules/module.py?line=1111'>1112</a>\u001b[0m full_backward_hooks, non_full_backward_hooks \u001b[39m=\u001b[39m [], []\n",
      "File \u001b[0;32m~/opt/anaconda3/envs/objdet/lib/python3.9/site-packages/torch/nn/modules/conv.py:447\u001b[0m, in \u001b[0;36mConv2d.forward\u001b[0;34m(self, input)\u001b[0m\n\u001b[1;32m    <a href='file:///Users/mmacchini/opt/anaconda3/envs/objdet/lib/python3.9/site-packages/torch/nn/modules/conv.py?line=445'>446</a>\u001b[0m \u001b[39mdef\u001b[39;00m \u001b[39mforward\u001b[39m(\u001b[39mself\u001b[39m, \u001b[39minput\u001b[39m: Tensor) \u001b[39m-\u001b[39m\u001b[39m>\u001b[39m Tensor:\n\u001b[0;32m--> <a href='file:///Users/mmacchini/opt/anaconda3/envs/objdet/lib/python3.9/site-packages/torch/nn/modules/conv.py?line=446'>447</a>\u001b[0m     \u001b[39mreturn\u001b[39;00m \u001b[39mself\u001b[39;49m\u001b[39m.\u001b[39;49m_conv_forward(\u001b[39minput\u001b[39;49m, \u001b[39mself\u001b[39;49m\u001b[39m.\u001b[39;49mweight, \u001b[39mself\u001b[39;49m\u001b[39m.\u001b[39;49mbias)\n",
      "File \u001b[0;32m~/opt/anaconda3/envs/objdet/lib/python3.9/site-packages/torch/nn/modules/conv.py:443\u001b[0m, in \u001b[0;36mConv2d._conv_forward\u001b[0;34m(self, input, weight, bias)\u001b[0m\n\u001b[1;32m    <a href='file:///Users/mmacchini/opt/anaconda3/envs/objdet/lib/python3.9/site-packages/torch/nn/modules/conv.py?line=438'>439</a>\u001b[0m \u001b[39mif\u001b[39;00m \u001b[39mself\u001b[39m\u001b[39m.\u001b[39mpadding_mode \u001b[39m!=\u001b[39m \u001b[39m'\u001b[39m\u001b[39mzeros\u001b[39m\u001b[39m'\u001b[39m:\n\u001b[1;32m    <a href='file:///Users/mmacchini/opt/anaconda3/envs/objdet/lib/python3.9/site-packages/torch/nn/modules/conv.py?line=439'>440</a>\u001b[0m     \u001b[39mreturn\u001b[39;00m F\u001b[39m.\u001b[39mconv2d(F\u001b[39m.\u001b[39mpad(\u001b[39minput\u001b[39m, \u001b[39mself\u001b[39m\u001b[39m.\u001b[39m_reversed_padding_repeated_twice, mode\u001b[39m=\u001b[39m\u001b[39mself\u001b[39m\u001b[39m.\u001b[39mpadding_mode),\n\u001b[1;32m    <a href='file:///Users/mmacchini/opt/anaconda3/envs/objdet/lib/python3.9/site-packages/torch/nn/modules/conv.py?line=440'>441</a>\u001b[0m                     weight, bias, \u001b[39mself\u001b[39m\u001b[39m.\u001b[39mstride,\n\u001b[1;32m    <a href='file:///Users/mmacchini/opt/anaconda3/envs/objdet/lib/python3.9/site-packages/torch/nn/modules/conv.py?line=441'>442</a>\u001b[0m                     _pair(\u001b[39m0\u001b[39m), \u001b[39mself\u001b[39m\u001b[39m.\u001b[39mdilation, \u001b[39mself\u001b[39m\u001b[39m.\u001b[39mgroups)\n\u001b[0;32m--> <a href='file:///Users/mmacchini/opt/anaconda3/envs/objdet/lib/python3.9/site-packages/torch/nn/modules/conv.py?line=442'>443</a>\u001b[0m \u001b[39mreturn\u001b[39;00m F\u001b[39m.\u001b[39;49mconv2d(\u001b[39minput\u001b[39;49m, weight, bias, \u001b[39mself\u001b[39;49m\u001b[39m.\u001b[39;49mstride,\n\u001b[1;32m    <a href='file:///Users/mmacchini/opt/anaconda3/envs/objdet/lib/python3.9/site-packages/torch/nn/modules/conv.py?line=443'>444</a>\u001b[0m                 \u001b[39mself\u001b[39;49m\u001b[39m.\u001b[39;49mpadding, \u001b[39mself\u001b[39;49m\u001b[39m.\u001b[39;49mdilation, \u001b[39mself\u001b[39;49m\u001b[39m.\u001b[39;49mgroups)\n",
      "\u001b[0;31mKeyboardInterrupt\u001b[0m: "
     ]
    }
   ],
   "source": [
    "import time\n",
    "import glob\n",
    "\n",
    "# img = 'https://ultralytics.com/images/zidane.jpg'  # or file, Path, PIL, OpenCV, numpy, list\n",
    "# img = '/Users/mmacchini/Downloads/IMG_5284.png'\n",
    "# img = '/Users/mmacchini/Desktop/Screenshots/Screen Shot 2022-05-16 at 11.43.23 AM.png'\n",
    "img = 'https://www.cherry.fr/media/wysiwyg/hero_product_content/CHERRY_STREAM_HERO_1_900.jpg'\n",
    "# img = '/Users/mmacchini/Desktop/img_laptop.jpeg'\n",
    "# img = 'https://i1.wp.com/www.alphr.com/wp-content/uploads/2017/02/macbook-keyboard-typing.jpg?fit=1280%2C720&ssl=1'\n",
    "# Inference\n",
    "\n",
    "imgs = glob.glob('/Users/mmacchini/Documents/data/typing_samples/*')\n",
    "\n",
    "for img in imgs:\n",
    "    t = time.time()\n",
    "    results = model(img)\n",
    "    print(f'took {time.time() - t}s')\n",
    "\n",
    "    # Results\n",
    "    results.show()  # or .print(), .save(), .crop(), .pandas(), etc."
   ]
  },
  {
   "cell_type": "code",
   "execution_count": 12,
   "metadata": {},
   "outputs": [
    {
     "name": "stdout",
     "output_type": "stream",
     "text": [
      "took 0.23591876029968262s\n",
      "took 0.47904205322265625s\n",
      "took 0.20958209037780762s\n",
      "took 0.23043203353881836s\n",
      "took 0.2722928524017334s\n",
      "took 0.3032808303833008s\n",
      "took 0.1853029727935791s\n",
      "took 0.18308210372924805s\n",
      "took 0.16033387184143066s\n",
      "took 0.2820568084716797s\n",
      "took 0.19318819046020508s\n",
      "took 0.19693708419799805s\n",
      "took 0.1549088954925537s\n"
     ]
    }
   ],
   "source": [
    "import time\n",
    "import glob\n",
    "\n",
    "# img = 'https://ultralytics.com/images/zidane.jpg'  # or file, Path, PIL, OpenCV, numpy, list\n",
    "# img = '/Users/mmacchini/Downloads/IMG_5284.png'\n",
    "# img = '/Users/mmacchini/Desktop/Screenshots/Screen Shot 2022-05-16 at 11.43.23 AM.png'\n",
    "img = 'https://www.cherry.fr/media/wysiwyg/hero_product_content/CHERRY_STREAM_HERO_1_900.jpg'\n",
    "# img = '/Users/mmacchini/Desktop/img_laptop.jpeg'\n",
    "# img = 'https://i1.wp.com/www.alphr.com/wp-content/uploads/2017/02/macbook-keyboard-typing.jpg?fit=1280%2C720&ssl=1'\n",
    "# Inference\n",
    "\n",
    "imgs = glob.glob('/Users/mmacchini/Documents/data/typing_samples/*')\n",
    "\n",
    "for img in imgs:\n",
    "    t = time.time()\n",
    "    results = modeln(img)\n",
    "    print(f'took {time.time() - t}s')\n",
    "\n",
    "    # Results\n",
    "    results.show()  # or .print(), .save(), .crop(), .pandas(), etc."
   ]
  },
  {
   "cell_type": "code",
   "execution_count": 10,
   "metadata": {},
   "outputs": [
    {
     "name": "stdout",
     "output_type": "stream",
     "text": [
      "took 1.7195460796356201s\n"
     ]
    }
   ],
   "source": [
    "import time\n",
    "\n",
    "# img = 'https://ultralytics.com/images/zidane.jpg'  # or file, Path, PIL, OpenCV, numpy, list\n",
    "# img = '/Users/mmacchini/Downloads/IMG_5284.png'\n",
    "# img = '/Users/mmacchini/Desktop/Screenshots/Screen Shot 2022-05-16 at 11.43.23 AM.png'\n",
    "img = 'https://www.cherry.fr/media/wysiwyg/hero_product_content/CHERRY_STREAM_HERO_1_900.jpg'\n",
    "# img = '/Users/mmacchini/Desktop/img_laptop.jpeg'\n",
    "# img = 'data/images/object_detection_ex1_bw.jpg'\n",
    "# Inference\n",
    "\n",
    "for model in ['l']:\n",
    "    t = time.time()\n",
    "    results = models[model](img)\n",
    "    print(f'took {time.time() - t}s')\n",
    "\n",
    "    # Results\n",
    "    results.show()  # or .print(), .save(), .crop(), .pandas(), etc."
   ]
  },
  {
   "cell_type": "code",
   "execution_count": null,
   "metadata": {},
   "outputs": [],
   "source": []
  },
  {
   "cell_type": "code",
   "execution_count": 24,
   "metadata": {},
   "outputs": [],
   "source": [
    "data = results.pandas()"
   ]
  },
  {
   "cell_type": "code",
   "execution_count": 61,
   "metadata": {},
   "outputs": [
    {
     "name": "stdout",
     "output_type": "stream",
     "text": [
      "image 1/1: 900x1920 2 persons, 1 mouse, 1 keyboard\n",
      "Speed: 13604.6ms pre-process, 231.8ms inference, 1.9ms NMS per image at shape (1, 3, 320, 640)\n"
     ]
    }
   ],
   "source": [
    "results.print()"
   ]
  },
  {
   "cell_type": "code",
   "execution_count": 62,
   "metadata": {},
   "outputs": [
    {
     "name": "stdout",
     "output_type": "stream",
     "text": [
      "image 1/1: 900x1920 2 persons, 1 mouse, 1 keyboard\n",
      "Speed: 949.5ms pre-process, 130.0ms inference, 1.9ms NMS per image at shape (1, 3, 320, 640)\n"
     ]
    }
   ],
   "source": [
    "results_nano.print()"
   ]
  },
  {
   "cell_type": "code",
   "execution_count": 67,
   "metadata": {},
   "outputs": [],
   "source": [
    "labels, cord_thres = results_nano.xyxyn[0][:, -1].numpy(), results_nano.xyxyn[0][:, :-1].numpy()"
   ]
  },
  {
   "cell_type": "code",
   "execution_count": 64,
   "metadata": {},
   "outputs": [
    {
     "name": "stdout",
     "output_type": "stream",
     "text": [
      "mouse\n",
      "[    0.86397     0.36555     0.95977     0.69877     0.92529]\n",
      "keyboard\n",
      "[    0.19544     0.16251     0.83117     0.67429     0.84265]\n",
      "person\n",
      "[    0.55532     0.40764     0.73021     0.97674     0.47538]\n",
      "person\n",
      "[    0.21558     0.37573     0.75342           1     0.42283]\n"
     ]
    }
   ],
   "source": [
    "for i in range(len(labels)):\n",
    "    print(results.names[int(labels[i])])\n",
    "    print(cord_thres[i])"
   ]
  },
  {
   "cell_type": "code",
   "execution_count": 68,
   "metadata": {},
   "outputs": [
    {
     "name": "stdout",
     "output_type": "stream",
     "text": [
      "mouse\n",
      "[    0.85951     0.37535     0.95868     0.69684     0.85636]\n",
      "person\n",
      "[    0.55477     0.41723     0.73194     0.98916     0.64223]\n",
      "keyboard\n",
      "[    0.18384     0.17329     0.77618     0.69814     0.50948]\n",
      "person\n",
      "[    0.24351     0.41451     0.41719     0.92323     0.48767]\n"
     ]
    }
   ],
   "source": [
    "for i in range(len(labels)):\n",
    "    print(results.names[int(labels[i])])\n",
    "    print(cord_thres[i])"
   ]
  },
  {
   "cell_type": "code",
   "execution_count": 53,
   "metadata": {},
   "outputs": [],
   "source": [
    "results.show()"
   ]
  },
  {
   "cell_type": "code",
   "execution_count": null,
   "metadata": {},
   "outputs": [],
   "source": [
    "nums = [4, 5, 9, 16, 32, 90, 91, 144, 256, 511, 1012, 1024]\n",
    "\n",
    "fil = [x for x in nums if x>5]"
   ]
  },
  {
   "cell_type": "code",
   "execution_count": null,
   "metadata": {},
   "outputs": [],
   "source": []
  }
 ],
 "metadata": {
  "interpreter": {
   "hash": "31410f58b7599e7551656707190339e7f5c626a2126ff7f7e0b50b304a4fd410"
  },
  "kernelspec": {
   "display_name": "Python 3.9.12 ('objdet')",
   "language": "python",
   "name": "python3"
  },
  "language_info": {
   "codemirror_mode": {
    "name": "ipython",
    "version": 3
   },
   "file_extension": ".py",
   "mimetype": "text/x-python",
   "name": "python",
   "nbconvert_exporter": "python",
   "pygments_lexer": "ipython3",
   "version": "3.9.12"
  },
  "orig_nbformat": 4
 },
 "nbformat": 4,
 "nbformat_minor": 2
}
