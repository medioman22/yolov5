{
 "cells": [
  {
   "cell_type": "code",
   "execution_count": 1,
   "metadata": {},
   "outputs": [
    {
     "name": "stderr",
     "output_type": "stream",
     "text": [
      "/Users/mmacchini/opt/anaconda3/envs/objdet/lib/python3.9/site-packages/tqdm/auto.py:22: TqdmWarning: IProgress not found. Please update jupyter and ipywidgets. See https://ipywidgets.readthedocs.io/en/stable/user_install.html\n",
      "  from .autonotebook import tqdm as notebook_tqdm\n",
      "Using cache found in /Users/mmacchini/.cache/torch/hub/ultralytics_yolov5_master\n",
      "YOLOv5 🚀 2022-5-16 Python-3.9.12 torch-1.11.0 CPU\n",
      "\n",
      "Fusing layers... \n",
      "YOLOv5n summary: 213 layers, 1867405 parameters, 0 gradients\n",
      "Adding AutoShape... \n"
     ]
    },
    {
     "name": "stdout",
     "output_type": "stream",
     "text": [
      "image 1/1: 720x1280 2 persons, 1 tie\n",
      "Speed: 929.0ms pre-process, 404.1ms inference, 31.2ms NMS per image at shape (1, 3, 384, 640)\n"
     ]
    }
   ],
   "source": [
    "import torch\n",
    "\n",
    "model_names = ['yolov5n']#, 'yolov5x']\n",
    "\n",
    "# Model\n",
    "models = {x[-1]:torch.hub.load('ultralytics/yolov5', x) for x in model_names}  # or yolov5n - yolov5x6, custom\n",
    "\n",
    "# Images\n",
    "img = 'https://ultralytics.com/images/zidane.jpg'  # or file, Path, PIL, OpenCV, numpy, list\n",
    "\n",
    "# Inference\n",
    "results = models['n'](img)\n",
    "\n",
    "# Results\n",
    "results.print()  # or .show(), .save(), .crop(), .pandas(), etc."
   ]
  },
  {
   "cell_type": "code",
   "execution_count": 2,
   "metadata": {},
   "outputs": [],
   "source": [
    "results.show()"
   ]
  },
  {
   "cell_type": "code",
   "execution_count": 10,
   "metadata": {},
   "outputs": [
    {
     "name": "stdout",
     "output_type": "stream",
     "text": [
      "took 1.7195460796356201s\n"
     ]
    }
   ],
   "source": [
    "import time\n",
    "\n",
    "# img = 'https://ultralytics.com/images/zidane.jpg'  # or file, Path, PIL, OpenCV, numpy, list\n",
    "# img = '/Users/mmacchini/Downloads/IMG_5284.png'\n",
    "# img = '/Users/mmacchini/Desktop/Screenshots/Screen Shot 2022-05-16 at 11.43.23 AM.png'\n",
    "img = 'https://www.cherry.fr/media/wysiwyg/hero_product_content/CHERRY_STREAM_HERO_1_900.jpg'\n",
    "# img = '/Users/mmacchini/Desktop/img_laptop.jpeg'\n",
    "# img = 'data/images/object_detection_ex1_bw.jpg'\n",
    "# Inference\n",
    "\n",
    "for model in ['l']:\n",
    "    t = time.time()\n",
    "    results = models[model](img)\n",
    "    print(f'took {time.time() - t}s')\n",
    "\n",
    "    # Results\n",
    "    results.show()  # or .print(), .save(), .crop(), .pandas(), etc."
   ]
  },
  {
   "cell_type": "code",
   "execution_count": null,
   "metadata": {},
   "outputs": [],
   "source": []
  },
  {
   "cell_type": "code",
   "execution_count": 24,
   "metadata": {},
   "outputs": [],
   "source": [
    "data = results.pandas()"
   ]
  },
  {
   "cell_type": "code",
   "execution_count": 61,
   "metadata": {},
   "outputs": [
    {
     "name": "stdout",
     "output_type": "stream",
     "text": [
      "image 1/1: 900x1920 2 persons, 1 mouse, 1 keyboard\n",
      "Speed: 13604.6ms pre-process, 231.8ms inference, 1.9ms NMS per image at shape (1, 3, 320, 640)\n"
     ]
    }
   ],
   "source": [
    "results.print()"
   ]
  },
  {
   "cell_type": "code",
   "execution_count": 62,
   "metadata": {},
   "outputs": [
    {
     "name": "stdout",
     "output_type": "stream",
     "text": [
      "image 1/1: 900x1920 2 persons, 1 mouse, 1 keyboard\n",
      "Speed: 949.5ms pre-process, 130.0ms inference, 1.9ms NMS per image at shape (1, 3, 320, 640)\n"
     ]
    }
   ],
   "source": [
    "results_nano.print()"
   ]
  },
  {
   "cell_type": "code",
   "execution_count": 67,
   "metadata": {},
   "outputs": [],
   "source": [
    "labels, cord_thres = results_nano.xyxyn[0][:, -1].numpy(), results_nano.xyxyn[0][:, :-1].numpy()"
   ]
  },
  {
   "cell_type": "code",
   "execution_count": 64,
   "metadata": {},
   "outputs": [
    {
     "name": "stdout",
     "output_type": "stream",
     "text": [
      "mouse\n",
      "[    0.86397     0.36555     0.95977     0.69877     0.92529]\n",
      "keyboard\n",
      "[    0.19544     0.16251     0.83117     0.67429     0.84265]\n",
      "person\n",
      "[    0.55532     0.40764     0.73021     0.97674     0.47538]\n",
      "person\n",
      "[    0.21558     0.37573     0.75342           1     0.42283]\n"
     ]
    }
   ],
   "source": [
    "for i in range(len(labels)):\n",
    "    print(results.names[int(labels[i])])\n",
    "    print(cord_thres[i])"
   ]
  },
  {
   "cell_type": "code",
   "execution_count": 68,
   "metadata": {},
   "outputs": [
    {
     "name": "stdout",
     "output_type": "stream",
     "text": [
      "mouse\n",
      "[    0.85951     0.37535     0.95868     0.69684     0.85636]\n",
      "person\n",
      "[    0.55477     0.41723     0.73194     0.98916     0.64223]\n",
      "keyboard\n",
      "[    0.18384     0.17329     0.77618     0.69814     0.50948]\n",
      "person\n",
      "[    0.24351     0.41451     0.41719     0.92323     0.48767]\n"
     ]
    }
   ],
   "source": [
    "for i in range(len(labels)):\n",
    "    print(results.names[int(labels[i])])\n",
    "    print(cord_thres[i])"
   ]
  },
  {
   "cell_type": "code",
   "execution_count": 53,
   "metadata": {},
   "outputs": [],
   "source": [
    "results.show()"
   ]
  },
  {
   "cell_type": "code",
   "execution_count": null,
   "metadata": {},
   "outputs": [],
   "source": [
    "nums = [4, 5, 9, 16, 32, 90, 91, 144, 256, 511, 1012, 1024]\n",
    "\n",
    "fil = [x for x in nums if x>5]"
   ]
  },
  {
   "cell_type": "code",
   "execution_count": null,
   "metadata": {},
   "outputs": [],
   "source": []
  }
 ],
 "metadata": {
  "interpreter": {
   "hash": "31410f58b7599e7551656707190339e7f5c626a2126ff7f7e0b50b304a4fd410"
  },
  "kernelspec": {
   "display_name": "Python 3.9.12 ('objdet')",
   "language": "python",
   "name": "python3"
  },
  "language_info": {
   "codemirror_mode": {
    "name": "ipython",
    "version": 3
   },
   "file_extension": ".py",
   "mimetype": "text/x-python",
   "name": "python",
   "nbconvert_exporter": "python",
   "pygments_lexer": "ipython3",
   "version": "3.9.12"
  },
  "orig_nbformat": 4
 },
 "nbformat": 4,
 "nbformat_minor": 2
}
