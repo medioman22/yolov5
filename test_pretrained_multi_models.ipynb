{
 "cells": [
  {
   "cell_type": "code",
   "execution_count": 19,
   "metadata": {},
   "outputs": [
    {
     "name": "stderr",
     "output_type": "stream",
     "text": [
      "YOLOv5 🚀 v6.1-237-g7c1da54 Python-3.9.12 torch-1.11.0 CPU\n",
      "\n",
      "Fusing layers... \n",
      "Model summary: 213 layers, 1772695 parameters, 0 gradients\n",
      "Adding AutoShape... \n",
      "YOLOv5 🚀 v6.1-237-g7c1da54 Python-3.9.12 torch-1.11.0 CPU\n",
      "\n",
      "Fusing layers... \n",
      "Model summary: 280 layers, 12342868 parameters, 0 gradients\n",
      "Adding AutoShape... \n",
      "YOLOv5 🚀 v6.1-237-g7c1da54 Python-3.9.12 torch-1.11.0 CPU\n",
      "\n",
      "Fusing layers... \n",
      "Model summary: 290 layers, 20889303 parameters, 0 gradients\n",
      "Adding AutoShape... \n",
      "YOLOv5 🚀 v6.1-237-g7c1da54 Python-3.9.12 torch-1.11.0 CPU\n",
      "\n",
      "Fusing layers... \n",
      "Model summary: 574 layers, 140057380 parameters, 0 gradients\n",
      "Adding AutoShape... \n"
     ]
    }
   ],
   "source": [
    "import torch\n",
    "\n",
    "versions = ['n', 's6', 'm', 'x6']\n",
    "models = {}\n",
    "for ver in versions:\n",
    "    models[ver] = torch.hub.load('.', 'custom', path=f'/Users/mmacchini/Documents/github/yolov5/pretrained/coco_subset_and_hands_50_epochs_{ver}/runs/train/exp/weights/best.pt', source='local')\n",
    "\n",
    "# # Images\n",
    "# img = 'https://ultralytics.com/images/zidane.jpg'  # or file, Path, PIL, OpenCV, numpy, list\n",
    "\n",
    "# # Inference\n",
    "# results = model(img)\n",
    "\n",
    "# # Results\n",
    "# results.show()  # or .show(), .save(), .crop(), .pandas(), etc."
   ]
  },
  {
   "cell_type": "code",
   "execution_count": 29,
   "metadata": {},
   "outputs": [
    {
     "name": "stdout",
     "output_type": "stream",
     "text": [
      "took 0.40037989616394043s\n",
      "took 0.5488049983978271s\n",
      "took 1.2604308128356934s\n",
      "took 4.309885740280151s\n"
     ]
    }
   ],
   "source": [
    "import time\n",
    "import glob\n",
    "\n",
    "# img = 'https://ultralytics.com/images/zidane.jpg'  # or file, Path, PIL, OpenCV, numpy, list\n",
    "# img = '/Users/mmacchini/Downloads/IMG_5284.png'\n",
    "# img = '/Users/mmacchini/Desktop/Screenshots/Screen Shot 2022-05-16 at 11.43.23 AM.png'\n",
    "img = 'https://www.cherry.fr/media/wysiwyg/hero_product_content/CHERRY_STREAM_HERO_1_900.jpg'\n",
    "# img = '/Users/mmacchini/Desktop/img_laptop.jpeg'\n",
    "# img = 'https://i1.wp.com/www.alphr.com/wp-content/uploads/2017/02/macbook-keyboard-typing.jpg?fit=1280%2C720&ssl=1'\n",
    "# Inference\n",
    "\n",
    "imgs = glob.glob('/Users/mmacchini/Documents/data/typing_samples/*')\n",
    "\n",
    "# imgs = [x for x in imgs if 'mouse' in x]\n",
    "\n",
    "img = imgs[5]\n",
    "# for img in imgs:\n",
    "for ver in versions:\n",
    "    t = time.time()\n",
    "    results = models[ver](img)\n",
    "    print(f'took {time.time() - t}s')\n",
    "\n",
    "    # Results\n",
    "    results.show()  # or .print(), .save(), .crop(), .pandas(), etc."
   ]
  },
  {
   "cell_type": "code",
   "execution_count": 14,
   "metadata": {},
   "outputs": [
    {
     "name": "stdout",
     "output_type": "stream",
     "text": [
      "took 1.5094530582427979s\n",
      "took 1.3258941173553467s\n",
      "took 1.4548180103302002s\n",
      "took 0.9521098136901855s\n",
      "took 0.851240873336792s\n",
      "took 0.7315659523010254s\n",
      "took 1.0576109886169434s\n",
      "took 0.9270410537719727s\n",
      "took 0.6740221977233887s\n",
      "took 0.890329122543335s\n",
      "took 0.9641270637512207s\n",
      "took 0.9433910846710205s\n",
      "took 0.7281229496002197s\n",
      "took 0.8939831256866455s\n",
      "took 0.8581821918487549s\n"
     ]
    }
   ],
   "source": [
    "import time\n",
    "import glob\n",
    "\n",
    "# img = 'https://ultralytics.com/images/zidane.jpg'  # or file, Path, PIL, OpenCV, numpy, list\n",
    "# img = '/Users/mmacchini/Downloads/IMG_5284.png'\n",
    "# img = '/Users/mmacchini/Desktop/Screenshots/Screen Shot 2022-05-16 at 11.43.23 AM.png'\n",
    "img = 'https://www.cherry.fr/media/wysiwyg/hero_product_content/CHERRY_STREAM_HERO_1_900.jpg'\n",
    "# img = '/Users/mmacchini/Desktop/img_laptop.jpeg'\n",
    "# img = 'https://i1.wp.com/www.alphr.com/wp-content/uploads/2017/02/macbook-keyboard-typing.jpg?fit=1280%2C720&ssl=1'\n",
    "# Inference\n",
    "\n",
    "imgs = glob.glob('/Users/mmacchini/Documents/data/typing_samples/*')\n",
    "\n",
    "# imgs = [x for x in imgs if 'mouse' in x]\n",
    "\n",
    "for img in imgs:\n",
    "    t = time.time()\n",
    "    results = model(img)\n",
    "    print(f'took {time.time() - t}s')\n",
    "\n",
    "    # Results\n",
    "    results.show()  # or .print(), .save(), .crop(), .pandas(), etc."
   ]
  },
  {
   "cell_type": "code",
   "execution_count": 9,
   "metadata": {},
   "outputs": [
    {
     "name": "stdout",
     "output_type": "stream",
     "text": [
      "took 0.5618999004364014s\n",
      "took 1.0312011241912842s\n",
      "took 0.6749668121337891s\n",
      "took 0.677717924118042s\n",
      "took 0.7220621109008789s\n",
      "took 0.6872670650482178s\n",
      "took 0.5567669868469238s\n",
      "took 0.5295579433441162s\n",
      "took 0.747269868850708s\n",
      "took 0.640052080154419s\n",
      "took 0.5473349094390869s\n",
      "took 0.5910921096801758s\n",
      "took 0.6360018253326416s\n",
      "took 0.58479905128479s\n",
      "took 0.5677430629730225s\n",
      "took 0.626572847366333s\n",
      "took 0.7904021739959717s\n",
      "took 0.6256217956542969s\n",
      "took 0.5610458850860596s\n",
      "took 0.5908710956573486s\n",
      "took 0.9169039726257324s\n",
      "took 0.5639259815216064s\n",
      "took 0.6048429012298584s\n",
      "took 0.773932933807373s\n",
      "took 0.7819681167602539s\n",
      "took 0.6762332916259766s\n",
      "took 0.5751430988311768s\n",
      "took 0.5365359783172607s\n",
      "took 0.6634931564331055s\n",
      "took 0.6709766387939453s\n",
      "took 0.6608679294586182s\n",
      "took 0.6065170764923096s\n",
      "took 0.7655220031738281s\n",
      "took 0.7474231719970703s\n",
      "took 0.6671748161315918s\n",
      "took 0.9143741130828857s\n",
      "took 0.9049079418182373s\n",
      "took 0.8077797889709473s\n",
      "took 0.586338996887207s\n",
      "took 0.6123199462890625s\n",
      "took 0.5826199054718018s\n",
      "took 0.6147379875183105s\n",
      "took 0.6800241470336914s\n",
      "took 0.5814311504364014s\n",
      "took 0.8168678283691406s\n",
      "took 0.602496862411499s\n",
      "took 0.7022011280059814s\n",
      "took 0.6532509326934814s\n",
      "took 0.6399459838867188s\n",
      "took 0.4774599075317383s\n",
      "took 0.5659239292144775s\n",
      "took 0.5453789234161377s\n",
      "took 0.5785470008850098s\n",
      "took 0.582852840423584s\n",
      "took 1.084909200668335s\n",
      "took 0.6752939224243164s\n",
      "took 0.6211800575256348s\n",
      "took 0.8529667854309082s\n",
      "took 0.6168031692504883s\n",
      "took 0.7631940841674805s\n",
      "took 0.7452211380004883s\n",
      "took 0.85666823387146s\n",
      "took 0.7113490104675293s\n",
      "took 0.5763270854949951s\n",
      "took 0.6668930053710938s\n"
     ]
    },
    {
     "ename": "KeyboardInterrupt",
     "evalue": "",
     "output_type": "error",
     "traceback": [
      "\u001b[0;31m---------------------------------------------------------------------------\u001b[0m",
      "\u001b[0;31mKeyboardInterrupt\u001b[0m                         Traceback (most recent call last)",
      "\u001b[1;32m/Users/mmacchini/Documents/github/yolov5/test_pretrained.ipynb Cell 3'\u001b[0m in \u001b[0;36m<cell line: 5>\u001b[0;34m()\u001b[0m\n\u001b[1;32m      <a href='vscode-notebook-cell:/Users/mmacchini/Documents/github/yolov5/test_pretrained.ipynb#ch0000002?line=7'>8</a>\u001b[0m \u001b[39mprint\u001b[39m(\u001b[39mf\u001b[39m\u001b[39m'\u001b[39m\u001b[39mtook \u001b[39m\u001b[39m{\u001b[39;00mtime\u001b[39m.\u001b[39mtime() \u001b[39m-\u001b[39m t\u001b[39m}\u001b[39;00m\u001b[39ms\u001b[39m\u001b[39m'\u001b[39m)\n\u001b[1;32m     <a href='vscode-notebook-cell:/Users/mmacchini/Documents/github/yolov5/test_pretrained.ipynb#ch0000002?line=9'>10</a>\u001b[0m \u001b[39m# Results\u001b[39;00m\n\u001b[0;32m---> <a href='vscode-notebook-cell:/Users/mmacchini/Documents/github/yolov5/test_pretrained.ipynb#ch0000002?line=10'>11</a>\u001b[0m imag_annot \u001b[39m=\u001b[39m results\u001b[39m.\u001b[39;49mshow()\n",
      "File \u001b[0;32m~/Documents/github/yolov5/./models/common.py:677\u001b[0m, in \u001b[0;36mDetections.show\u001b[0;34m(self, labels)\u001b[0m\n\u001b[1;32m    <a href='file:///Users/mmacchini/Documents/github/yolov5/./models/common.py?line=675'>676</a>\u001b[0m \u001b[39mdef\u001b[39;00m \u001b[39mshow\u001b[39m(\u001b[39mself\u001b[39m, labels\u001b[39m=\u001b[39m\u001b[39mTrue\u001b[39;00m):\n\u001b[0;32m--> <a href='file:///Users/mmacchini/Documents/github/yolov5/./models/common.py?line=676'>677</a>\u001b[0m     \u001b[39mself\u001b[39;49m\u001b[39m.\u001b[39;49mdisplay(show\u001b[39m=\u001b[39;49m\u001b[39mTrue\u001b[39;49;00m, labels\u001b[39m=\u001b[39;49mlabels)\n",
      "File \u001b[0;32m~/Documents/github/yolov5/./models/common.py:659\u001b[0m, in \u001b[0;36mDetections.display\u001b[0;34m(self, pprint, show, save, crop, render, labels, save_dir)\u001b[0m\n\u001b[1;32m    <a href='file:///Users/mmacchini/Documents/github/yolov5/./models/common.py?line=656'>657</a>\u001b[0m     \u001b[39mprint\u001b[39m(s\u001b[39m.\u001b[39mrstrip(\u001b[39m'\u001b[39m\u001b[39m, \u001b[39m\u001b[39m'\u001b[39m))\n\u001b[1;32m    <a href='file:///Users/mmacchini/Documents/github/yolov5/./models/common.py?line=657'>658</a>\u001b[0m \u001b[39mif\u001b[39;00m show:\n\u001b[0;32m--> <a href='file:///Users/mmacchini/Documents/github/yolov5/./models/common.py?line=658'>659</a>\u001b[0m     im\u001b[39m.\u001b[39;49mshow(\u001b[39mself\u001b[39;49m\u001b[39m.\u001b[39;49mfiles[i])  \u001b[39m# show\u001b[39;00m\n\u001b[1;32m    <a href='file:///Users/mmacchini/Documents/github/yolov5/./models/common.py?line=659'>660</a>\u001b[0m \u001b[39mif\u001b[39;00m save:\n\u001b[1;32m    <a href='file:///Users/mmacchini/Documents/github/yolov5/./models/common.py?line=660'>661</a>\u001b[0m     f \u001b[39m=\u001b[39m \u001b[39mself\u001b[39m\u001b[39m.\u001b[39mfiles[i]\n",
      "File \u001b[0;32m~/opt/anaconda3/envs/objdet/lib/python3.9/site-packages/PIL/Image.py:2354\u001b[0m, in \u001b[0;36mImage.show\u001b[0;34m(self, title)\u001b[0m\n\u001b[1;32m   <a href='file:///Users/mmacchini/opt/anaconda3/envs/objdet/lib/python3.9/site-packages/PIL/Image.py?line=2333'>2334</a>\u001b[0m \u001b[39mdef\u001b[39;00m \u001b[39mshow\u001b[39m(\u001b[39mself\u001b[39m, title\u001b[39m=\u001b[39m\u001b[39mNone\u001b[39;00m):\n\u001b[1;32m   <a href='file:///Users/mmacchini/opt/anaconda3/envs/objdet/lib/python3.9/site-packages/PIL/Image.py?line=2334'>2335</a>\u001b[0m     \u001b[39m\"\"\"\u001b[39;00m\n\u001b[1;32m   <a href='file:///Users/mmacchini/opt/anaconda3/envs/objdet/lib/python3.9/site-packages/PIL/Image.py?line=2335'>2336</a>\u001b[0m \u001b[39m    Displays this image. This method is mainly intended for debugging purposes.\u001b[39;00m\n\u001b[1;32m   <a href='file:///Users/mmacchini/opt/anaconda3/envs/objdet/lib/python3.9/site-packages/PIL/Image.py?line=2336'>2337</a>\u001b[0m \n\u001b[0;32m   (...)\u001b[0m\n\u001b[1;32m   <a href='file:///Users/mmacchini/opt/anaconda3/envs/objdet/lib/python3.9/site-packages/PIL/Image.py?line=2350'>2351</a>\u001b[0m \u001b[39m    :param title: Optional title to use for the image window, where possible.\u001b[39;00m\n\u001b[1;32m   <a href='file:///Users/mmacchini/opt/anaconda3/envs/objdet/lib/python3.9/site-packages/PIL/Image.py?line=2351'>2352</a>\u001b[0m \u001b[39m    \"\"\"\u001b[39;00m\n\u001b[0;32m-> <a href='file:///Users/mmacchini/opt/anaconda3/envs/objdet/lib/python3.9/site-packages/PIL/Image.py?line=2353'>2354</a>\u001b[0m     _show(\u001b[39mself\u001b[39;49m, title\u001b[39m=\u001b[39;49mtitle)\n",
      "File \u001b[0;32m~/opt/anaconda3/envs/objdet/lib/python3.9/site-packages/PIL/Image.py:3348\u001b[0m, in \u001b[0;36m_show\u001b[0;34m(image, **options)\u001b[0m\n\u001b[1;32m   <a href='file:///Users/mmacchini/opt/anaconda3/envs/objdet/lib/python3.9/site-packages/PIL/Image.py?line=3344'>3345</a>\u001b[0m \u001b[39mdef\u001b[39;00m \u001b[39m_show\u001b[39m(image, \u001b[39m*\u001b[39m\u001b[39m*\u001b[39moptions):\n\u001b[1;32m   <a href='file:///Users/mmacchini/opt/anaconda3/envs/objdet/lib/python3.9/site-packages/PIL/Image.py?line=3345'>3346</a>\u001b[0m     \u001b[39mfrom\u001b[39;00m \u001b[39m.\u001b[39;00m \u001b[39mimport\u001b[39;00m ImageShow\n\u001b[0;32m-> <a href='file:///Users/mmacchini/opt/anaconda3/envs/objdet/lib/python3.9/site-packages/PIL/Image.py?line=3347'>3348</a>\u001b[0m     ImageShow\u001b[39m.\u001b[39;49mshow(image, \u001b[39m*\u001b[39;49m\u001b[39m*\u001b[39;49moptions)\n",
      "File \u001b[0;32m~/opt/anaconda3/envs/objdet/lib/python3.9/site-packages/PIL/ImageShow.py:61\u001b[0m, in \u001b[0;36mshow\u001b[0;34m(image, title, **options)\u001b[0m\n\u001b[1;32m     <a href='file:///Users/mmacchini/opt/anaconda3/envs/objdet/lib/python3.9/site-packages/PIL/ImageShow.py?line=51'>52</a>\u001b[0m \u001b[39mr\u001b[39m\u001b[39m\"\"\"\u001b[39;00m\n\u001b[1;32m     <a href='file:///Users/mmacchini/opt/anaconda3/envs/objdet/lib/python3.9/site-packages/PIL/ImageShow.py?line=52'>53</a>\u001b[0m \u001b[39mDisplay a given image.\u001b[39;00m\n\u001b[1;32m     <a href='file:///Users/mmacchini/opt/anaconda3/envs/objdet/lib/python3.9/site-packages/PIL/ImageShow.py?line=53'>54</a>\u001b[0m \n\u001b[0;32m   (...)\u001b[0m\n\u001b[1;32m     <a href='file:///Users/mmacchini/opt/anaconda3/envs/objdet/lib/python3.9/site-packages/PIL/ImageShow.py?line=57'>58</a>\u001b[0m \u001b[39m:returns: ``True`` if a suitable viewer was found, ``False`` otherwise.\u001b[39;00m\n\u001b[1;32m     <a href='file:///Users/mmacchini/opt/anaconda3/envs/objdet/lib/python3.9/site-packages/PIL/ImageShow.py?line=58'>59</a>\u001b[0m \u001b[39m\"\"\"\u001b[39;00m\n\u001b[1;32m     <a href='file:///Users/mmacchini/opt/anaconda3/envs/objdet/lib/python3.9/site-packages/PIL/ImageShow.py?line=59'>60</a>\u001b[0m \u001b[39mfor\u001b[39;00m viewer \u001b[39min\u001b[39;00m _viewers:\n\u001b[0;32m---> <a href='file:///Users/mmacchini/opt/anaconda3/envs/objdet/lib/python3.9/site-packages/PIL/ImageShow.py?line=60'>61</a>\u001b[0m     \u001b[39mif\u001b[39;00m viewer\u001b[39m.\u001b[39;49mshow(image, title\u001b[39m=\u001b[39;49mtitle, \u001b[39m*\u001b[39;49m\u001b[39m*\u001b[39;49moptions):\n\u001b[1;32m     <a href='file:///Users/mmacchini/opt/anaconda3/envs/objdet/lib/python3.9/site-packages/PIL/ImageShow.py?line=61'>62</a>\u001b[0m         \u001b[39mreturn\u001b[39;00m \u001b[39mTrue\u001b[39;00m\n\u001b[1;32m     <a href='file:///Users/mmacchini/opt/anaconda3/envs/objdet/lib/python3.9/site-packages/PIL/ImageShow.py?line=62'>63</a>\u001b[0m \u001b[39mreturn\u001b[39;00m \u001b[39mFalse\u001b[39;00m\n",
      "File \u001b[0;32m~/opt/anaconda3/envs/objdet/lib/python3.9/site-packages/PIL/ImageShow.py:85\u001b[0m, in \u001b[0;36mViewer.show\u001b[0;34m(self, image, **options)\u001b[0m\n\u001b[1;32m     <a href='file:///Users/mmacchini/opt/anaconda3/envs/objdet/lib/python3.9/site-packages/PIL/ImageShow.py?line=81'>82</a>\u001b[0m     \u001b[39mif\u001b[39;00m image\u001b[39m.\u001b[39mmode \u001b[39m!=\u001b[39m base:\n\u001b[1;32m     <a href='file:///Users/mmacchini/opt/anaconda3/envs/objdet/lib/python3.9/site-packages/PIL/ImageShow.py?line=82'>83</a>\u001b[0m         image \u001b[39m=\u001b[39m image\u001b[39m.\u001b[39mconvert(base)\n\u001b[0;32m---> <a href='file:///Users/mmacchini/opt/anaconda3/envs/objdet/lib/python3.9/site-packages/PIL/ImageShow.py?line=84'>85</a>\u001b[0m \u001b[39mreturn\u001b[39;00m \u001b[39mself\u001b[39;49m\u001b[39m.\u001b[39;49mshow_image(image, \u001b[39m*\u001b[39;49m\u001b[39m*\u001b[39;49moptions)\n",
      "File \u001b[0;32m~/opt/anaconda3/envs/objdet/lib/python3.9/site-packages/PIL/ImageShow.py:111\u001b[0m, in \u001b[0;36mViewer.show_image\u001b[0;34m(self, image, **options)\u001b[0m\n\u001b[1;32m    <a href='file:///Users/mmacchini/opt/anaconda3/envs/objdet/lib/python3.9/site-packages/PIL/ImageShow.py?line=108'>109</a>\u001b[0m \u001b[39mdef\u001b[39;00m \u001b[39mshow_image\u001b[39m(\u001b[39mself\u001b[39m, image, \u001b[39m*\u001b[39m\u001b[39m*\u001b[39moptions):\n\u001b[1;32m    <a href='file:///Users/mmacchini/opt/anaconda3/envs/objdet/lib/python3.9/site-packages/PIL/ImageShow.py?line=109'>110</a>\u001b[0m     \u001b[39m\"\"\"Display the given image.\"\"\"\u001b[39;00m\n\u001b[0;32m--> <a href='file:///Users/mmacchini/opt/anaconda3/envs/objdet/lib/python3.9/site-packages/PIL/ImageShow.py?line=110'>111</a>\u001b[0m     \u001b[39mreturn\u001b[39;00m \u001b[39mself\u001b[39m\u001b[39m.\u001b[39mshow_file(\u001b[39mself\u001b[39;49m\u001b[39m.\u001b[39;49msave_image(image), \u001b[39m*\u001b[39m\u001b[39m*\u001b[39moptions)\n",
      "File \u001b[0;32m~/opt/anaconda3/envs/objdet/lib/python3.9/site-packages/PIL/ImageShow.py:107\u001b[0m, in \u001b[0;36mViewer.save_image\u001b[0;34m(self, image)\u001b[0m\n\u001b[1;32m    <a href='file:///Users/mmacchini/opt/anaconda3/envs/objdet/lib/python3.9/site-packages/PIL/ImageShow.py?line=104'>105</a>\u001b[0m \u001b[39mdef\u001b[39;00m \u001b[39msave_image\u001b[39m(\u001b[39mself\u001b[39m, image):\n\u001b[1;32m    <a href='file:///Users/mmacchini/opt/anaconda3/envs/objdet/lib/python3.9/site-packages/PIL/ImageShow.py?line=105'>106</a>\u001b[0m     \u001b[39m\"\"\"Save to temporary file and return filename.\"\"\"\u001b[39;00m\n\u001b[0;32m--> <a href='file:///Users/mmacchini/opt/anaconda3/envs/objdet/lib/python3.9/site-packages/PIL/ImageShow.py?line=106'>107</a>\u001b[0m     \u001b[39mreturn\u001b[39;00m image\u001b[39m.\u001b[39;49m_dump(\u001b[39mformat\u001b[39;49m\u001b[39m=\u001b[39;49m\u001b[39mself\u001b[39;49m\u001b[39m.\u001b[39;49mget_format(image), \u001b[39m*\u001b[39;49m\u001b[39m*\u001b[39;49m\u001b[39mself\u001b[39;49m\u001b[39m.\u001b[39;49moptions)\n",
      "File \u001b[0;32m~/opt/anaconda3/envs/objdet/lib/python3.9/site-packages/PIL/Image.py:648\u001b[0m, in \u001b[0;36mImage._dump\u001b[0;34m(self, file, format, **options)\u001b[0m\n\u001b[1;32m    <a href='file:///Users/mmacchini/opt/anaconda3/envs/objdet/lib/python3.9/site-packages/PIL/Image.py?line=645'>646</a>\u001b[0m     \u001b[39mself\u001b[39m\u001b[39m.\u001b[39mim\u001b[39m.\u001b[39msave_ppm(filename)\n\u001b[1;32m    <a href='file:///Users/mmacchini/opt/anaconda3/envs/objdet/lib/python3.9/site-packages/PIL/Image.py?line=646'>647</a>\u001b[0m \u001b[39melse\u001b[39;00m:\n\u001b[0;32m--> <a href='file:///Users/mmacchini/opt/anaconda3/envs/objdet/lib/python3.9/site-packages/PIL/Image.py?line=647'>648</a>\u001b[0m     \u001b[39mself\u001b[39;49m\u001b[39m.\u001b[39;49msave(filename, \u001b[39mformat\u001b[39;49m, \u001b[39m*\u001b[39;49m\u001b[39m*\u001b[39;49moptions)\n\u001b[1;32m    <a href='file:///Users/mmacchini/opt/anaconda3/envs/objdet/lib/python3.9/site-packages/PIL/Image.py?line=649'>650</a>\u001b[0m \u001b[39mreturn\u001b[39;00m filename\n",
      "File \u001b[0;32m~/opt/anaconda3/envs/objdet/lib/python3.9/site-packages/PIL/Image.py:2300\u001b[0m, in \u001b[0;36mImage.save\u001b[0;34m(self, fp, format, **params)\u001b[0m\n\u001b[1;32m   <a href='file:///Users/mmacchini/opt/anaconda3/envs/objdet/lib/python3.9/site-packages/PIL/Image.py?line=2296'>2297</a>\u001b[0m         fp \u001b[39m=\u001b[39m builtins\u001b[39m.\u001b[39mopen(filename, \u001b[39m\"\u001b[39m\u001b[39mw+b\u001b[39m\u001b[39m\"\u001b[39m)\n\u001b[1;32m   <a href='file:///Users/mmacchini/opt/anaconda3/envs/objdet/lib/python3.9/site-packages/PIL/Image.py?line=2298'>2299</a>\u001b[0m \u001b[39mtry\u001b[39;00m:\n\u001b[0;32m-> <a href='file:///Users/mmacchini/opt/anaconda3/envs/objdet/lib/python3.9/site-packages/PIL/Image.py?line=2299'>2300</a>\u001b[0m     save_handler(\u001b[39mself\u001b[39;49m, fp, filename)\n\u001b[1;32m   <a href='file:///Users/mmacchini/opt/anaconda3/envs/objdet/lib/python3.9/site-packages/PIL/Image.py?line=2300'>2301</a>\u001b[0m \u001b[39mexcept\u001b[39;00m \u001b[39mException\u001b[39;00m:\n\u001b[1;32m   <a href='file:///Users/mmacchini/opt/anaconda3/envs/objdet/lib/python3.9/site-packages/PIL/Image.py?line=2301'>2302</a>\u001b[0m     \u001b[39mif\u001b[39;00m open_fp:\n",
      "File \u001b[0;32m~/opt/anaconda3/envs/objdet/lib/python3.9/site-packages/PIL/PngImagePlugin.py:1374\u001b[0m, in \u001b[0;36m_save\u001b[0;34m(im, fp, filename, chunk, save_all)\u001b[0m\n\u001b[1;32m   <a href='file:///Users/mmacchini/opt/anaconda3/envs/objdet/lib/python3.9/site-packages/PIL/PngImagePlugin.py?line=1371'>1372</a>\u001b[0m     _write_multiple_frames(im, fp, chunk, rawmode)\n\u001b[1;32m   <a href='file:///Users/mmacchini/opt/anaconda3/envs/objdet/lib/python3.9/site-packages/PIL/PngImagePlugin.py?line=1372'>1373</a>\u001b[0m \u001b[39melse\u001b[39;00m:\n\u001b[0;32m-> <a href='file:///Users/mmacchini/opt/anaconda3/envs/objdet/lib/python3.9/site-packages/PIL/PngImagePlugin.py?line=1373'>1374</a>\u001b[0m     ImageFile\u001b[39m.\u001b[39;49m_save(im, _idat(fp, chunk), [(\u001b[39m\"\u001b[39;49m\u001b[39mzip\u001b[39;49m\u001b[39m\"\u001b[39;49m, (\u001b[39m0\u001b[39;49m, \u001b[39m0\u001b[39;49m) \u001b[39m+\u001b[39;49m im\u001b[39m.\u001b[39;49msize, \u001b[39m0\u001b[39;49m, rawmode)])\n\u001b[1;32m   <a href='file:///Users/mmacchini/opt/anaconda3/envs/objdet/lib/python3.9/site-packages/PIL/PngImagePlugin.py?line=1375'>1376</a>\u001b[0m \u001b[39mif\u001b[39;00m info:\n\u001b[1;32m   <a href='file:///Users/mmacchini/opt/anaconda3/envs/objdet/lib/python3.9/site-packages/PIL/PngImagePlugin.py?line=1376'>1377</a>\u001b[0m     \u001b[39mfor\u001b[39;00m info_chunk \u001b[39min\u001b[39;00m info\u001b[39m.\u001b[39mchunks:\n",
      "File \u001b[0;32m~/opt/anaconda3/envs/objdet/lib/python3.9/site-packages/PIL/ImageFile.py:518\u001b[0m, in \u001b[0;36m_save\u001b[0;34m(im, fp, tile, bufsize)\u001b[0m\n\u001b[1;32m    <a href='file:///Users/mmacchini/opt/anaconda3/envs/objdet/lib/python3.9/site-packages/PIL/ImageFile.py?line=514'>515</a>\u001b[0m \u001b[39mif\u001b[39;00m exc:\n\u001b[1;32m    <a href='file:///Users/mmacchini/opt/anaconda3/envs/objdet/lib/python3.9/site-packages/PIL/ImageFile.py?line=515'>516</a>\u001b[0m     \u001b[39m# compress to Python file-compatible object\u001b[39;00m\n\u001b[1;32m    <a href='file:///Users/mmacchini/opt/anaconda3/envs/objdet/lib/python3.9/site-packages/PIL/ImageFile.py?line=516'>517</a>\u001b[0m     \u001b[39mwhile\u001b[39;00m \u001b[39mTrue\u001b[39;00m:\n\u001b[0;32m--> <a href='file:///Users/mmacchini/opt/anaconda3/envs/objdet/lib/python3.9/site-packages/PIL/ImageFile.py?line=517'>518</a>\u001b[0m         l, s, d \u001b[39m=\u001b[39m encoder\u001b[39m.\u001b[39;49mencode(bufsize)\n\u001b[1;32m    <a href='file:///Users/mmacchini/opt/anaconda3/envs/objdet/lib/python3.9/site-packages/PIL/ImageFile.py?line=518'>519</a>\u001b[0m         fp\u001b[39m.\u001b[39mwrite(d)\n\u001b[1;32m    <a href='file:///Users/mmacchini/opt/anaconda3/envs/objdet/lib/python3.9/site-packages/PIL/ImageFile.py?line=519'>520</a>\u001b[0m         \u001b[39mif\u001b[39;00m s:\n",
      "\u001b[0;31mKeyboardInterrupt\u001b[0m: "
     ]
    }
   ],
   "source": [
    "\n",
    "imgs = glob.glob('/Volumes/One Touch/DATA/0322_Gestures/Sub 10/dynamic/imgs/Typing_0/*')\n",
    "\n",
    "# imgs = [x for x in imgs if 'mouse' in x]\n",
    "\n",
    "for img in imgs:\n",
    "    t = time.time()\n",
    "    results = model(img)\n",
    "    print(f'took {time.time() - t}s')\n",
    "\n",
    "    # Results\n",
    "    imag_annot = results.show()  # or .print(), .save(), .crop(), .pandas(), etc.\n",
    "    "
   ]
  },
  {
   "cell_type": "code",
   "execution_count": 29,
   "metadata": {},
   "outputs": [
    {
     "data": {
      "text/plain": [
       "False"
      ]
     },
     "execution_count": 29,
     "metadata": {},
     "output_type": "execute_result"
    }
   ],
   "source": [
    "import cv2 \n",
    "\n",
    "im_rgb = cv2.cvtColor(results.imgs[0], cv2.COLOR_BGR2RGB) # Because of OpenCV reading images as BGR\n",
    "cv2.imwrite('test', imag_annot)"
   ]
  },
  {
   "cell_type": "code",
   "execution_count": 45,
   "metadata": {},
   "outputs": [],
   "source": [
    "predict_image = model(img)\n",
    "im_rgb = cv2.cvtColor(predict_image.imgs[0], cv2.COLOR_BGR2RGB) # Because of OpenCV reading images as BGR\n",
    "cv2.imshow('test', im_rgb)"
   ]
  },
  {
   "cell_type": "code",
   "execution_count": 46,
   "metadata": {},
   "outputs": [
    {
     "data": {
      "text/plain": [
       "<matplotlib.image.AxesImage at 0x7f9fd3309a00>"
      ]
     },
     "execution_count": 46,
     "metadata": {},
     "output_type": "execute_result"
    }
   ],
   "source": [
    "import matplotlib.pyplot as plt\n",
    "\n",
    "plt.imshow(im_rgb)"
   ]
  },
  {
   "cell_type": "code",
   "execution_count": null,
   "metadata": {},
   "outputs": [],
   "source": [
    "import wandb\n",
    "\n",
    "wandb.init(project=\"DUMMY_SETUP\", entity=\"mmacchini\")"
   ]
  }
 ],
 "metadata": {
  "interpreter": {
   "hash": "31410f58b7599e7551656707190339e7f5c626a2126ff7f7e0b50b304a4fd410"
  },
  "kernelspec": {
   "display_name": "Python 3.9.12 ('objdet')",
   "language": "python",
   "name": "python3"
  },
  "language_info": {
   "codemirror_mode": {
    "name": "ipython",
    "version": 3
   },
   "file_extension": ".py",
   "mimetype": "text/x-python",
   "name": "python",
   "nbconvert_exporter": "python",
   "pygments_lexer": "ipython3",
   "version": "3.9.12"
  },
  "orig_nbformat": 4
 },
 "nbformat": 4,
 "nbformat_minor": 2
}
