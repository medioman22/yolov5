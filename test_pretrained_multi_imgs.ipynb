{
 "cells": [
  {
   "cell_type": "code",
   "execution_count": 1,
   "metadata": {},
   "outputs": [
    {
     "name": "stderr",
     "output_type": "stream",
     "text": [
      "/Users/mmacchini/opt/anaconda3/envs/objdet/lib/python3.9/site-packages/tqdm/auto.py:22: TqdmWarning: IProgress not found. Please update jupyter and ipywidgets. See https://ipywidgets.readthedocs.io/en/stable/user_install.html\n",
      "  from .autonotebook import tqdm as notebook_tqdm\n",
      "YOLOv5 🚀 v6.1-237-g7c1da54 Python-3.9.12 torch-1.11.0 CPU\n",
      "\n",
      "Fusing layers... \n",
      "Model summary: 367 layers, 46124433 parameters, 0 gradients, 107.8 GFLOPs\n",
      "Adding AutoShape... \n"
     ]
    }
   ],
   "source": [
    "import torch\n",
    "\n",
    "model = torch.hub.load('.', 'custom', path=f'/Users/mmacchini/Documents/github/yolov5/pretrained/hand_detection_l_50_epoch/runs/train/exp/weights/best.pt', source='local')\n",
    "\n",
    "# # Images\n",
    "# img = 'https://ultralytics.com/images/zidane.jpg'  # or file, Path, PIL, OpenCV, numpy, list\n",
    "\n",
    "# # Inference\n",
    "# results = model(img)\n",
    "\n",
    "# # Results\n",
    "# results.show()  # or .show(), .save(), .crop(), .pandas(), etc."
   ]
  },
  {
   "cell_type": "code",
   "execution_count": 2,
   "metadata": {},
   "outputs": [
    {
     "name": "stdout",
     "output_type": "stream",
     "text": [
      "took 2.4046850204467773s\n",
      "took 1.3389286994934082s\n",
      "took 1.436168909072876s\n",
      "took 1.6605854034423828s\n",
      "took 1.1547369956970215s\n",
      "took 1.0553102493286133s\n",
      "took 1.2836711406707764s\n",
      "took 1.451077938079834s\n",
      "took 1.288163661956787s\n",
      "took 1.2511370182037354s\n",
      "took 1.0784189701080322s\n",
      "took 1.688420057296753s\n",
      "took 1.2696361541748047s\n",
      "took 1.707524061203003s\n",
      "took 1.2419848442077637s\n"
     ]
    }
   ],
   "source": [
    "import time\n",
    "import glob\n",
    "\n",
    "# img = 'https://ultralytics.com/images/zidane.jpg'  # or file, Path, PIL, OpenCV, numpy, list\n",
    "# img = '/Users/mmacchini/Downloads/IMG_5284.png'\n",
    "# img = '/Users/mmacchini/Desktop/Screenshots/Screen Shot 2022-05-16 at 11.43.23 AM.png'\n",
    "img = 'https://www.cherry.fr/media/wysiwyg/hero_product_content/CHERRY_STREAM_HERO_1_900.jpg'\n",
    "# img = '/Users/mmacchini/Desktop/img_laptop.jpeg'\n",
    "# img = 'https://i1.wp.com/www.alphr.com/wp-content/uploads/2017/02/macbook-keyboard-typing.jpg?fit=1280%2C720&ssl=1'\n",
    "# Inference\n",
    "\n",
    "imgs = glob.glob('/Users/mmacchini/Documents/data/typing_samples/*')\n",
    "\n",
    "# imgs = [x for x in imgs if 'mouse' in x]\n",
    "\n",
    "\n",
    "# for img in imgs:\n",
    "for img in imgs:\n",
    "    t = time.time()\n",
    "    results = model(img)\n",
    "    print(f'took {time.time() - t}s')\n",
    "\n",
    "    # Results\n",
    "    results.show()  # or .print(), .save(), .crop(), .pandas(), etc."
   ]
  },
  {
   "cell_type": "code",
   "execution_count": 5,
   "metadata": {},
   "outputs": [
    {
     "name": "stdout",
     "output_type": "stream",
     "text": [
      "took 1.9554970264434814s\n",
      "took 1.3196070194244385s\n",
      "took 1.3157658576965332s\n",
      "took 1.5792393684387207s\n",
      "took 1.096832036972046s\n",
      "took 1.0069270133972168s\n",
      "took 1.2299737930297852s\n",
      "took 1.349565029144287s\n",
      "took 1.1505639553070068s\n",
      "took 1.0800509452819824s\n",
      "took 1.0612199306488037s\n",
      "took 1.3710651397705078s\n",
      "took 1.0743889808654785s\n",
      "took 1.408203125s\n",
      "took 1.1712629795074463s\n"
     ]
    }
   ],
   "source": [
    "import time\n",
    "import glob\n",
    "\n",
    "# img = 'https://ultralytics.com/images/zidane.jpg'  # or file, Path, PIL, OpenCV, numpy, list\n",
    "# img = '/Users/mmacchini/Downloads/IMG_5284.png'\n",
    "# img = '/Users/mmacchini/Desktop/Screenshots/Screen Shot 2022-05-16 at 11.43.23 AM.png'\n",
    "img = 'https://www.cherry.fr/media/wysiwyg/hero_product_content/CHERRY_STREAM_HERO_1_900.jpg'\n",
    "# img = '/Users/mmacchini/Desktop/img_laptop.jpeg'\n",
    "# img = 'https://i1.wp.com/www.alphr.com/wp-content/uploads/2017/02/macbook-keyboard-typing.jpg?fit=1280%2C720&ssl=1'\n",
    "# Inference\n",
    "\n",
    "imgs = glob.glob('/Users/mmacchini/Documents/data/typing_samples/*')\n",
    "\n",
    "# imgs = [x for x in imgs if 'mouse' in x]\n",
    "\n",
    "for img in imgs:\n",
    "    t = time.time()\n",
    "    results = model(img)\n",
    "    print(f'took {time.time() - t}s')\n",
    "\n",
    "    # Results\n",
    "    results.show()  # or .print(), .save(), .crop(), .pandas(), etc."
   ]
  },
  {
   "cell_type": "code",
   "execution_count": 4,
   "metadata": {},
   "outputs": [],
   "source": [
    "\n",
    "imgs = glob.glob('/Volumes/One Touch/DATA/0322_Gestures/Sub 10/dynamic/imgs/Typing_0/*')\n",
    "\n",
    "# imgs = [x for x in imgs if 'mouse' in x]\n",
    "\n",
    "for img in imgs:\n",
    "    t = time.time()\n",
    "    results = model(img)\n",
    "    print(f'took {time.time() - t}s')\n",
    "\n",
    "    # Results\n",
    "    imag_annot = results.show()  # or .print(), .save(), .crop(), .pandas(), etc.\n",
    "    "
   ]
  }
 ],
 "metadata": {
  "interpreter": {
   "hash": "31410f58b7599e7551656707190339e7f5c626a2126ff7f7e0b50b304a4fd410"
  },
  "kernelspec": {
   "display_name": "Python 3.9.12 ('objdet')",
   "language": "python",
   "name": "python3"
  },
  "language_info": {
   "codemirror_mode": {
    "name": "ipython",
    "version": 3
   },
   "file_extension": ".py",
   "mimetype": "text/x-python",
   "name": "python",
   "nbconvert_exporter": "python",
   "pygments_lexer": "ipython3",
   "version": "3.9.12"
  },
  "orig_nbformat": 4
 },
 "nbformat": 4,
 "nbformat_minor": 2
}
