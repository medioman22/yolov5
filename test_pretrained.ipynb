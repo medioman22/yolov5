{
 "cells": [
  {
   "cell_type": "code",
   "execution_count": 1,
   "metadata": {},
   "outputs": [
    {
     "name": "stderr",
     "output_type": "stream",
     "text": [
      "/Users/mmacchini/opt/anaconda3/envs/objdet/lib/python3.9/site-packages/tqdm/auto.py:22: TqdmWarning: IProgress not found. Please update jupyter and ipywidgets. See https://ipywidgets.readthedocs.io/en/stable/user_install.html\n",
      "  from .autonotebook import tqdm as notebook_tqdm\n",
      "YOLOv5 🚀 v6.1-221-gfc02981 Python-3.9.12 torch-1.11.0 CPU\n",
      "\n",
      "Fusing layers... \n",
      "Model summary: 213 layers, 7029004 parameters, 0 gradients, 15.9 GFLOPs\n",
      "Adding AutoShape... \n"
     ]
    }
   ],
   "source": [
    "import torch\n",
    "\n",
    "model = torch.hub.load('.', 'custom', path='/Users/mmacchini/Documents/github/yolov5/pretrained/coco_subset_1_epoch/runs/train/exp/weights/best.pt', source='local')\n",
    "\n",
    "# Images\n",
    "img = 'https://ultralytics.com/images/zidane.jpg'  # or file, Path, PIL, OpenCV, numpy, list\n",
    "\n",
    "# Inference\n",
    "results = model(img)\n",
    "\n",
    "# Results\n",
    "results.show()  # or .show(), .save(), .crop(), .pandas(), etc."
   ]
  },
  {
   "cell_type": "code",
   "execution_count": 2,
   "metadata": {},
   "outputs": [],
   "source": [
    "\n",
    "results = model(img)\n",
    "\n",
    "# Results\n",
    "results.show()  # or .show(), .save(), .crop(), .pandas(), etc."
   ]
  },
  {
   "cell_type": "code",
   "execution_count": 5,
   "metadata": {},
   "outputs": [
    {
     "name": "stdout",
     "output_type": "stream",
     "text": [
      "took 0.5599439144134521s\n",
      "took 0.6200220584869385s\n",
      "took 0.39482808113098145s\n",
      "took 0.2826418876647949s\n",
      "took 0.556304931640625s\n",
      "took 0.5649161338806152s\n",
      "took 0.3502068519592285s\n",
      "took 0.5823581218719482s\n",
      "took 0.2768421173095703s\n",
      "took 0.5071091651916504s\n",
      "took 0.3803870677947998s\n",
      "took 0.6410210132598877s\n",
      "took 0.35250401496887207s\n"
     ]
    }
   ],
   "source": [
    "import time\n",
    "import glob\n",
    "\n",
    "# img = 'https://ultralytics.com/images/zidane.jpg'  # or file, Path, PIL, OpenCV, numpy, list\n",
    "# img = '/Users/mmacchini/Downloads/IMG_5284.png'\n",
    "# img = '/Users/mmacchini/Desktop/Screenshots/Screen Shot 2022-05-16 at 11.43.23 AM.png'\n",
    "img = 'https://www.cherry.fr/media/wysiwyg/hero_product_content/CHERRY_STREAM_HERO_1_900.jpg'\n",
    "# img = '/Users/mmacchini/Desktop/img_laptop.jpeg'\n",
    "# img = 'https://i1.wp.com/www.alphr.com/wp-content/uploads/2017/02/macbook-keyboard-typing.jpg?fit=1280%2C720&ssl=1'\n",
    "# Inference\n",
    "\n",
    "imgs = glob.glob('/Users/mmacchini/Documents/data/typing_samples/*')\n",
    "\n",
    "for img in imgs:\n",
    "    t = time.time()\n",
    "    results = model(img)\n",
    "    print(f'took {time.time() - t}s')\n",
    "\n",
    "    # Results\n",
    "    results.show()  # or .print(), .save(), .crop(), .pandas(), etc."
   ]
  },
  {
   "cell_type": "code",
   "execution_count": 24,
   "metadata": {},
   "outputs": [],
   "source": [
    "data = results.pandas()"
   ]
  },
  {
   "cell_type": "code",
   "execution_count": 9,
   "metadata": {},
   "outputs": [
    {
     "name": "stdout",
     "output_type": "stream",
     "text": [
      "image 1/1: 480x640 (no detections)\n",
      "Speed: 25.8ms pre-process, 872.2ms inference, 0.8ms NMS per image at shape (1, 3, 480, 640)\n"
     ]
    }
   ],
   "source": [
    "results.print()"
   ]
  },
  {
   "cell_type": "code",
   "execution_count": 10,
   "metadata": {},
   "outputs": [
    {
     "name": "stdout",
     "output_type": "stream",
     "text": [
      "image 1/1: 480x640 (no detections)\n",
      "Speed: 25.8ms pre-process, 872.2ms inference, 0.8ms NMS per image at shape (1, 3, 480, 640)\n"
     ]
    }
   ],
   "source": [
    "results.print()"
   ]
  },
  {
   "cell_type": "code",
   "execution_count": 67,
   "metadata": {},
   "outputs": [],
   "source": [
    "labels, cord_thres = results_nano.xyxyn[0][:, -1].numpy(), results_nano.xyxyn[0][:, :-1].numpy()"
   ]
  },
  {
   "cell_type": "code",
   "execution_count": 64,
   "metadata": {},
   "outputs": [
    {
     "name": "stdout",
     "output_type": "stream",
     "text": [
      "mouse\n",
      "[    0.86397     0.36555     0.95977     0.69877     0.92529]\n",
      "keyboard\n",
      "[    0.19544     0.16251     0.83117     0.67429     0.84265]\n",
      "person\n",
      "[    0.55532     0.40764     0.73021     0.97674     0.47538]\n",
      "person\n",
      "[    0.21558     0.37573     0.75342           1     0.42283]\n"
     ]
    }
   ],
   "source": [
    "for i in range(len(labels)):\n",
    "    print(results.names[int(labels[i])])\n",
    "    print(cord_thres[i])"
   ]
  },
  {
   "cell_type": "code",
   "execution_count": 68,
   "metadata": {},
   "outputs": [
    {
     "name": "stdout",
     "output_type": "stream",
     "text": [
      "mouse\n",
      "[    0.85951     0.37535     0.95868     0.69684     0.85636]\n",
      "person\n",
      "[    0.55477     0.41723     0.73194     0.98916     0.64223]\n",
      "keyboard\n",
      "[    0.18384     0.17329     0.77618     0.69814     0.50948]\n",
      "person\n",
      "[    0.24351     0.41451     0.41719     0.92323     0.48767]\n"
     ]
    }
   ],
   "source": [
    "for i in range(len(labels)):\n",
    "    print(results.names[int(labels[i])])\n",
    "    print(cord_thres[i])"
   ]
  },
  {
   "cell_type": "code",
   "execution_count": 53,
   "metadata": {},
   "outputs": [],
   "source": [
    "results.show()"
   ]
  },
  {
   "cell_type": "code",
   "execution_count": null,
   "metadata": {},
   "outputs": [],
   "source": [
    "nums = [4, 5, 9, 16, 32, 90, 91, 144, 256, 511, 1012, 1024]\n",
    "\n",
    "fil = [x for x in nums if x>5]"
   ]
  },
  {
   "cell_type": "code",
   "execution_count": null,
   "metadata": {},
   "outputs": [],
   "source": []
  }
 ],
 "metadata": {
  "interpreter": {
   "hash": "31410f58b7599e7551656707190339e7f5c626a2126ff7f7e0b50b304a4fd410"
  },
  "kernelspec": {
   "display_name": "Python 3.9.12 ('objdet')",
   "language": "python",
   "name": "python3"
  },
  "language_info": {
   "codemirror_mode": {
    "name": "ipython",
    "version": 3
   },
   "file_extension": ".py",
   "mimetype": "text/x-python",
   "name": "python",
   "nbconvert_exporter": "python",
   "pygments_lexer": "ipython3",
   "version": "3.9.12"
  },
  "orig_nbformat": 4
 },
 "nbformat": 4,
 "nbformat_minor": 2
}
