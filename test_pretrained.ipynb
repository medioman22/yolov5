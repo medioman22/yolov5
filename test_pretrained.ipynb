{
 "cells": [
  {
   "cell_type": "code",
   "execution_count": 17,
   "metadata": {},
   "outputs": [
    {
     "name": "stderr",
     "output_type": "stream",
     "text": [
      "YOLOv5 🚀 v6.1-228-g334cc7b Python-3.9.12 torch-1.11.0 CPU\n",
      "\n",
      "Fusing layers... \n",
      "Model summary: 213 layers, 7029004 parameters, 0 gradients\n",
      "Adding AutoShape... \n"
     ]
    }
   ],
   "source": [
    "import torch\n",
    "\n",
    "model = torch.hub.load('.', 'custom', path='/Users/mmacchini/Documents/github/yolov5/pretrained/coco_subset_50_epoch_s/node/0/runs/train/exp/weights/best.pt', source='local')\n",
    "\n",
    "# Images\n",
    "img = 'https://ultralytics.com/images/zidane.jpg'  # or file, Path, PIL, OpenCV, numpy, list\n",
    "\n",
    "# Inference\n",
    "results = model(img)\n",
    "\n",
    "# Results\n",
    "results.show()  # or .show(), .save(), .crop(), .pandas(), etc."
   ]
  },
  {
   "cell_type": "code",
   "execution_count": 20,
   "metadata": {},
   "outputs": [
    {
     "name": "stdout",
     "output_type": "stream",
     "text": [
      "took 0.39131593704223633s\n",
      "took 0.31710004806518555s\n",
      "took 0.957054853439331s\n",
      "took 0.3942439556121826s\n",
      "took 0.29397106170654297s\n",
      "took 0.2731900215148926s\n",
      "took 0.3939030170440674s\n",
      "took 0.3375527858734131s\n",
      "took 0.3529481887817383s\n",
      "took 0.3406870365142822s\n",
      "took 0.38178396224975586s\n",
      "took 0.3744041919708252s\n",
      "took 0.4123570919036865s\n",
      "took 0.3535609245300293s\n",
      "took 0.31317996978759766s\n"
     ]
    }
   ],
   "source": [
    "import time\n",
    "import glob\n",
    "\n",
    "# img = 'https://ultralytics.com/images/zidane.jpg'  # or file, Path, PIL, OpenCV, numpy, list\n",
    "# img = '/Users/mmacchini/Downloads/IMG_5284.png'\n",
    "# img = '/Users/mmacchini/Desktop/Screenshots/Screen Shot 2022-05-16 at 11.43.23 AM.png'\n",
    "img = 'https://www.cherry.fr/media/wysiwyg/hero_product_content/CHERRY_STREAM_HERO_1_900.jpg'\n",
    "# img = '/Users/mmacchini/Desktop/img_laptop.jpeg'\n",
    "# img = 'https://i1.wp.com/www.alphr.com/wp-content/uploads/2017/02/macbook-keyboard-typing.jpg?fit=1280%2C720&ssl=1'\n",
    "# Inference\n",
    "\n",
    "imgs = glob.glob('/Users/mmacchini/Documents/data/typing_samples/*')\n",
    "\n",
    "# imgs = [x for x in imgs if 'mouse' in x]\n",
    "\n",
    "for img in imgs:\n",
    "    t = time.time()\n",
    "    results = model(img)\n",
    "    print(f'took {time.time() - t}s')\n",
    "\n",
    "    # Results\n",
    "    results.show()  # or .print(), .save(), .crop(), .pandas(), etc."
   ]
  },
  {
   "cell_type": "code",
   "execution_count": 5,
   "metadata": {},
   "outputs": [],
   "source": [
    "\n",
    "imgs = glob.glob('/Volumes/One Touch/DATA/0322_Gestures/Sub 10/dynamic/imgs/Typing_0/*')\n",
    "\n",
    "# imgs = [x for x in imgs if 'mouse' in x]\n",
    "\n",
    "for img in imgs:\n",
    "    t = time.time()\n",
    "    results = model(img)\n",
    "    print(f'took {time.time() - t}s')\n",
    "\n",
    "    # Results\n",
    "    imag_annot = results.show()  # or .print(), .save(), .crop(), .pandas(), etc.\n",
    "    "
   ]
  },
  {
   "cell_type": "code",
   "execution_count": 29,
   "metadata": {},
   "outputs": [
    {
     "data": {
      "text/plain": [
       "False"
      ]
     },
     "execution_count": 29,
     "metadata": {},
     "output_type": "execute_result"
    }
   ],
   "source": [
    "import cv2 \n",
    "\n",
    "im_rgb = cv2.cvtColor(results.imgs[0], cv2.COLOR_BGR2RGB) # Because of OpenCV reading images as BGR\n",
    "cv2.imwrite('test', imag_annot)"
   ]
  },
  {
   "cell_type": "code",
   "execution_count": 45,
   "metadata": {},
   "outputs": [],
   "source": [
    "predict_image = model(img)\n",
    "im_rgb = cv2.cvtColor(predict_image.imgs[0], cv2.COLOR_BGR2RGB) # Because of OpenCV reading images as BGR\n",
    "cv2.imshow('test', im_rgb)"
   ]
  },
  {
   "cell_type": "code",
   "execution_count": 46,
   "metadata": {},
   "outputs": [
    {
     "data": {
      "text/plain": [
       "<matplotlib.image.AxesImage at 0x7f9fd3309a00>"
      ]
     },
     "execution_count": 46,
     "metadata": {},
     "output_type": "execute_result"
    }
   ],
   "source": [
    "import matplotlib.pyplot as plt\n",
    "\n",
    "plt.imshow(im_rgb)"
   ]
  },
  {
   "cell_type": "code",
   "execution_count": null,
   "metadata": {},
   "outputs": [],
   "source": []
  }
 ],
 "metadata": {
  "interpreter": {
   "hash": "31410f58b7599e7551656707190339e7f5c626a2126ff7f7e0b50b304a4fd410"
  },
  "kernelspec": {
   "display_name": "Python 3.9.12 ('objdet')",
   "language": "python",
   "name": "python3"
  },
  "language_info": {
   "codemirror_mode": {
    "name": "ipython",
    "version": 3
   },
   "file_extension": ".py",
   "mimetype": "text/x-python",
   "name": "python",
   "nbconvert_exporter": "python",
   "pygments_lexer": "ipython3",
   "version": "3.9.12"
  },
  "orig_nbformat": 4
 },
 "nbformat": 4,
 "nbformat_minor": 2
}
